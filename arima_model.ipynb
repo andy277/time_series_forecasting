{
 "cells": [
  {
   "cell_type": "code",
   "id": "initial_id",
   "metadata": {
    "collapsed": true,
    "ExecuteTime": {
     "end_time": "2025-02-04T04:11:52.227412Z",
     "start_time": "2025-02-04T04:11:52.224801Z"
    }
   },
   "source": [
    "import pandas as pd\n",
    "import numpy as np\n",
    "from sklearn.model_selection import TimeSeriesSplit\n",
    "from statsmodels.tsa.arima_model import ARIMA\n",
    "from pmdarima.arima import auto_arima\n",
    "import matplotlib.pyplot as plt\n",
    "import warnings\n",
    "warnings.filterwarnings('ignore')"
   ],
   "outputs": [],
   "execution_count": 205
  },
  {
   "metadata": {
    "ExecuteTime": {
     "end_time": "2025-02-04T04:11:55.566402Z",
     "start_time": "2025-02-04T04:11:52.229440Z"
    }
   },
   "cell_type": "code",
   "source": [
    "df = pd.read_excel(\"AIB_History_Training_2014-2020.xlsx\", sheet_name='HistoricalTransactions')\n",
    "df.head()"
   ],
   "id": "385b0715a6b08f96",
   "outputs": [
    {
     "data": {
      "text/plain": [
       "            FileFolder      FileName    Report_Title Report_RunDate  \\\n",
       "0  Generic Random Data  AIBC0101.001  AIBC 0809TTTBB     2014-01-01   \n",
       "1  Generic Random Data  AIBC0101.001  AIBC 0809TTTBB     2014-01-01   \n",
       "2  Generic Random Data  AIBC0101.001  AIBC 0809TTTBB     2014-01-01   \n",
       "3  Generic Random Data  AIBC0101.001  AIBC 0809TTTBB     2014-01-01   \n",
       "4  Generic Random Data  AIBC0101.001  AIBC 0809TTTBB     2014-01-01   \n",
       "\n",
       "  Report_AsOfDate Report_TransactionEffectiveDate Currency  Institution  \\\n",
       "0      2013-12-31                      2013-12-30      CAD            1   \n",
       "1      2013-12-31                      2013-12-30      CAD            1   \n",
       "2      2013-12-31                      2013-12-30      CAD            1   \n",
       "3      2013-12-31                      2013-12-30      CAD            1   \n",
       "4      2013-12-31                      2013-12-30      CAD            1   \n",
       "\n",
       "   Branch TransactionGroup TransactionCode TransactionBackdateFlag  \\\n",
       "0       1                D              CP                     Yes   \n",
       "1       1                D              UR                     Yes   \n",
       "2       1                C              CP                     Yes   \n",
       "3       1                D              UR                     Yes   \n",
       "4       1                D              UR                     Yes   \n",
       "\n",
       "   TransactionAmount  \n",
       "0        -972.619715  \n",
       "1         -75.956876  \n",
       "2         127.430470  \n",
       "3         -38.300469  \n",
       "4        -117.467137  "
      ],
      "text/html": [
       "<div>\n",
       "<style scoped>\n",
       "    .dataframe tbody tr th:only-of-type {\n",
       "        vertical-align: middle;\n",
       "    }\n",
       "\n",
       "    .dataframe tbody tr th {\n",
       "        vertical-align: top;\n",
       "    }\n",
       "\n",
       "    .dataframe thead th {\n",
       "        text-align: right;\n",
       "    }\n",
       "</style>\n",
       "<table border=\"1\" class=\"dataframe\">\n",
       "  <thead>\n",
       "    <tr style=\"text-align: right;\">\n",
       "      <th></th>\n",
       "      <th>FileFolder</th>\n",
       "      <th>FileName</th>\n",
       "      <th>Report_Title</th>\n",
       "      <th>Report_RunDate</th>\n",
       "      <th>Report_AsOfDate</th>\n",
       "      <th>Report_TransactionEffectiveDate</th>\n",
       "      <th>Currency</th>\n",
       "      <th>Institution</th>\n",
       "      <th>Branch</th>\n",
       "      <th>TransactionGroup</th>\n",
       "      <th>TransactionCode</th>\n",
       "      <th>TransactionBackdateFlag</th>\n",
       "      <th>TransactionAmount</th>\n",
       "    </tr>\n",
       "  </thead>\n",
       "  <tbody>\n",
       "    <tr>\n",
       "      <th>0</th>\n",
       "      <td>Generic Random Data</td>\n",
       "      <td>AIBC0101.001</td>\n",
       "      <td>AIBC 0809TTTBB</td>\n",
       "      <td>2014-01-01</td>\n",
       "      <td>2013-12-31</td>\n",
       "      <td>2013-12-30</td>\n",
       "      <td>CAD</td>\n",
       "      <td>1</td>\n",
       "      <td>1</td>\n",
       "      <td>D</td>\n",
       "      <td>CP</td>\n",
       "      <td>Yes</td>\n",
       "      <td>-972.619715</td>\n",
       "    </tr>\n",
       "    <tr>\n",
       "      <th>1</th>\n",
       "      <td>Generic Random Data</td>\n",
       "      <td>AIBC0101.001</td>\n",
       "      <td>AIBC 0809TTTBB</td>\n",
       "      <td>2014-01-01</td>\n",
       "      <td>2013-12-31</td>\n",
       "      <td>2013-12-30</td>\n",
       "      <td>CAD</td>\n",
       "      <td>1</td>\n",
       "      <td>1</td>\n",
       "      <td>D</td>\n",
       "      <td>UR</td>\n",
       "      <td>Yes</td>\n",
       "      <td>-75.956876</td>\n",
       "    </tr>\n",
       "    <tr>\n",
       "      <th>2</th>\n",
       "      <td>Generic Random Data</td>\n",
       "      <td>AIBC0101.001</td>\n",
       "      <td>AIBC 0809TTTBB</td>\n",
       "      <td>2014-01-01</td>\n",
       "      <td>2013-12-31</td>\n",
       "      <td>2013-12-30</td>\n",
       "      <td>CAD</td>\n",
       "      <td>1</td>\n",
       "      <td>1</td>\n",
       "      <td>C</td>\n",
       "      <td>CP</td>\n",
       "      <td>Yes</td>\n",
       "      <td>127.430470</td>\n",
       "    </tr>\n",
       "    <tr>\n",
       "      <th>3</th>\n",
       "      <td>Generic Random Data</td>\n",
       "      <td>AIBC0101.001</td>\n",
       "      <td>AIBC 0809TTTBB</td>\n",
       "      <td>2014-01-01</td>\n",
       "      <td>2013-12-31</td>\n",
       "      <td>2013-12-30</td>\n",
       "      <td>CAD</td>\n",
       "      <td>1</td>\n",
       "      <td>1</td>\n",
       "      <td>D</td>\n",
       "      <td>UR</td>\n",
       "      <td>Yes</td>\n",
       "      <td>-38.300469</td>\n",
       "    </tr>\n",
       "    <tr>\n",
       "      <th>4</th>\n",
       "      <td>Generic Random Data</td>\n",
       "      <td>AIBC0101.001</td>\n",
       "      <td>AIBC 0809TTTBB</td>\n",
       "      <td>2014-01-01</td>\n",
       "      <td>2013-12-31</td>\n",
       "      <td>2013-12-30</td>\n",
       "      <td>CAD</td>\n",
       "      <td>1</td>\n",
       "      <td>1</td>\n",
       "      <td>D</td>\n",
       "      <td>UR</td>\n",
       "      <td>Yes</td>\n",
       "      <td>-117.467137</td>\n",
       "    </tr>\n",
       "  </tbody>\n",
       "</table>\n",
       "</div>"
      ]
     },
     "execution_count": 206,
     "metadata": {},
     "output_type": "execute_result"
    }
   ],
   "execution_count": 206
  },
  {
   "metadata": {
    "ExecuteTime": {
     "end_time": "2025-02-04T04:11:55.569910Z",
     "start_time": "2025-02-04T04:11:55.567353Z"
    }
   },
   "cell_type": "code",
   "source": [
    "df = df.drop(columns=[\"FileFolder\", \"FileName\", \"Report_Title\", \"Report_RunDate\", \"Report_AsOfDate\", \"Currency\", \"Institution\", \"Branch\", \"TransactionBackdateFlag\", \"TransactionCode\"])\n",
    "df.shape"
   ],
   "id": "c2a2b2f0a21cddc",
   "outputs": [
    {
     "data": {
      "text/plain": [
       "(67731, 3)"
      ]
     },
     "execution_count": 207,
     "metadata": {},
     "output_type": "execute_result"
    }
   ],
   "execution_count": 207
  },
  {
   "metadata": {
    "ExecuteTime": {
     "end_time": "2025-02-04T04:11:55.577616Z",
     "start_time": "2025-02-04T04:11:55.570495Z"
    }
   },
   "cell_type": "code",
   "source": [
    "## Split data into Debit and Credit\n",
    "credit_df = df[df[\"TransactionGroup\"] == \"C\"].copy()\n",
    "debit_df = df[df[\"TransactionGroup\"] == \"D\"].copy()\n",
    "print(\"Credit Shape: \", credit_df.shape)\n",
    "print(\"Debit Shape: \", debit_df.shape)"
   ],
   "id": "c75790fd15801586",
   "outputs": [
    {
     "name": "stdout",
     "output_type": "stream",
     "text": [
      "Credit Shape:  (43402, 3)\n",
      "Debit Shape:  (24329, 3)\n"
     ]
    }
   ],
   "execution_count": 208
  },
  {
   "metadata": {
    "ExecuteTime": {
     "end_time": "2025-02-04T04:11:55.582929Z",
     "start_time": "2025-02-04T04:11:55.578644Z"
    }
   },
   "cell_type": "code",
   "source": [
    "## Group by date\n",
    "daily_credit = credit_df.groupby(\"Report_TransactionEffectiveDate\")[\"TransactionAmount\"].sum().asfreq(\"D\")\n",
    "daily_debit = debit_df.groupby(\"Report_TransactionEffectiveDate\")[\"TransactionAmount\"].sum().asfreq(\"D\")\n",
    "\n",
    "print(\"Daily Credit Missing Values: \", daily_credit.isnull().sum())\n",
    "print(\"Daily Debit Missing Values: \", daily_debit.isnull().sum())"
   ],
   "id": "b415956dc5386f7e",
   "outputs": [
    {
     "name": "stdout",
     "output_type": "stream",
     "text": [
      "Daily Credit Missing Values:  809\n",
      "Daily Debit Missing Values:  787\n"
     ]
    }
   ],
   "execution_count": 209
  },
  {
   "metadata": {
    "ExecuteTime": {
     "end_time": "2025-02-04T04:11:55.585497Z",
     "start_time": "2025-02-04T04:11:55.583468Z"
    }
   },
   "cell_type": "code",
   "source": [
    "## Fill n/a with 0\n",
    "daily_credit = daily_credit.fillna(method=\"ffill\").fillna(method=\"bfill\")\n",
    "daily_debit = daily_debit.fillna(method=\"ffill\").fillna(method=\"bfill\")\n",
    "\n",
    "print(\"Daily Credit Missing Values: \", daily_credit.isnull().sum())\n",
    "print(\"Daily Debit Missing Values: \", daily_debit.isnull().sum())"
   ],
   "id": "8ab28259b43c80e3",
   "outputs": [
    {
     "name": "stdout",
     "output_type": "stream",
     "text": [
      "Daily Credit Missing Values:  0\n",
      "Daily Debit Missing Values:  0\n"
     ]
    }
   ],
   "execution_count": 210
  },
  {
   "metadata": {
    "ExecuteTime": {
     "end_time": "2025-02-04T04:11:55.587407Z",
     "start_time": "2025-02-04T04:11:55.585991Z"
    }
   },
   "cell_type": "code",
   "source": [
    "## Rows of daily credit and debit transactions\n",
    "print(\"Daily Credit Rows: \", daily_credit.shape[0])\n",
    "print(\"Daily Debit Rows: \", daily_debit.shape[0])"
   ],
   "id": "c26772c58c226379",
   "outputs": [
    {
     "name": "stdout",
     "output_type": "stream",
     "text": [
      "Daily Credit Rows:  2559\n",
      "Daily Debit Rows:  2559\n"
     ]
    }
   ],
   "execution_count": 211
  },
  {
   "metadata": {
    "ExecuteTime": {
     "end_time": "2025-02-04T04:11:55.590504Z",
     "start_time": "2025-02-04T04:11:55.587882Z"
    }
   },
   "cell_type": "code",
   "source": [
    "## Function to split train and test sets\n",
    "def split_train_test_time_series(data, n_splits=5, test_size=None):\n",
    "    X = data.values.reshape(-1, 1)\n",
    "    \n",
    "    tscv = TimeSeriesSplit(n_splits=n_splits, max_train_size=None, test_size=test_size)\n",
    "    \n",
    "    train_indices = []\n",
    "    test_indices = []\n",
    "    \n",
    "    for train_index, test_index in tscv.split(X):\n",
    "        train_indices.append(train_index)\n",
    "        test_indices.append(test_index)\n",
    "    \n",
    "    return data.iloc[train_indices[-1]], data.iloc[test_indices[-1]]\n",
    "\n",
    "## Split train and test sets\n",
    "credit_train, credit_test = split_train_test_time_series(daily_credit, test_size=int(len(daily_credit) * 0.2))\n",
    "debit_train, debit_test = split_train_test_time_series(daily_debit, test_size=int(len(daily_debit) * 0.2))\n"
   ],
   "id": "b4c6597fc27354de",
   "outputs": [
    {
     "name": "stdout",
     "output_type": "stream",
     "text": [
      "(2048,) (511,)\n"
     ]
    }
   ],
   "execution_count": 212
  },
  {
   "metadata": {},
   "cell_type": "code",
   "outputs": [],
   "execution_count": null,
   "source": "## Pick p,d,m for arima model using auto-arima for the most optimal parameters\n",
   "id": "84a5e14e5006d1b0"
  }
 ],
 "metadata": {
  "kernelspec": {
   "display_name": "Python 3",
   "language": "python",
   "name": "python3"
  },
  "language_info": {
   "codemirror_mode": {
    "name": "ipython",
    "version": 2
   },
   "file_extension": ".py",
   "mimetype": "text/x-python",
   "name": "python",
   "nbconvert_exporter": "python",
   "pygments_lexer": "ipython2",
   "version": "2.7.6"
  }
 },
 "nbformat": 4,
 "nbformat_minor": 5
}
