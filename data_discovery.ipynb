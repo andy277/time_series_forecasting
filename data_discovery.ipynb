{
 "cells": [
  {
   "metadata": {
    "ExecuteTime": {
     "end_time": "2025-02-03T22:53:44.447956Z",
     "start_time": "2025-02-03T22:53:44.445692Z"
    }
   },
   "cell_type": "code",
   "source": [
    "import pandas as pd\n",
    "import matplotlib.pyplot as plt\n",
    "import seaborn as sns\n",
    "import warnings\n",
    "warnings.filterwarnings('ignore')"
   ],
   "id": "cd9c8f210c7ab49a",
   "outputs": [],
   "execution_count": 126
  },
  {
   "metadata": {
    "ExecuteTime": {
     "end_time": "2025-02-03T22:53:48.178099Z",
     "start_time": "2025-02-03T22:53:44.455694Z"
    }
   },
   "cell_type": "code",
   "source": "df = pd.read_excel(\"AIB_History_Training_2014-2020.xlsx\", sheet_name='HistoricalTransactions')",
   "id": "d080e966a7a5de64",
   "outputs": [],
   "execution_count": 127
  },
  {
   "metadata": {
    "ExecuteTime": {
     "end_time": "2025-02-03T22:53:48.185548Z",
     "start_time": "2025-02-03T22:53:48.183286Z"
    }
   },
   "cell_type": "code",
   "source": [
    "## Check Shape\n",
    "print(\"Shape of dataset: \", df.shape)"
   ],
   "id": "eefe522467d1342d",
   "outputs": [
    {
     "name": "stdout",
     "output_type": "stream",
     "text": [
      "Shape of dataset:  (67731, 13)\n"
     ]
    }
   ],
   "execution_count": 128
  },
  {
   "metadata": {
    "ExecuteTime": {
     "end_time": "2025-02-03T22:53:48.195549Z",
     "start_time": "2025-02-03T22:53:48.193250Z"
    }
   },
   "cell_type": "code",
   "source": [
    "## Check column names\n",
    "print(\"Columns: \", df.columns.tolist())"
   ],
   "id": "274a17469c0e87ae",
   "outputs": [
    {
     "name": "stdout",
     "output_type": "stream",
     "text": [
      "Columns:  ['FileFolder', 'FileName', 'Report_Title', 'Report_RunDate', 'Report_AsOfDate', 'Report_TransactionEffectiveDate', 'Currency', 'Institution', 'Branch', 'TransactionGroup', 'TransactionCode', 'TransactionBackdateFlag', 'TransactionAmount']\n"
     ]
    }
   ],
   "execution_count": 129
  },
  {
   "metadata": {
    "ExecuteTime": {
     "end_time": "2025-02-03T22:53:48.206920Z",
     "start_time": "2025-02-03T22:53:48.203801Z"
    }
   },
   "cell_type": "code",
   "source": [
    "## Check data types\n",
    "print(\"Data types: \", df.dtypes)"
   ],
   "id": "c2ebf6e4fe8fd6f1",
   "outputs": [
    {
     "name": "stdout",
     "output_type": "stream",
     "text": [
      "Data types:  FileFolder                                 object\n",
      "FileName                                   object\n",
      "Report_Title                               object\n",
      "Report_RunDate                     datetime64[ns]\n",
      "Report_AsOfDate                    datetime64[ns]\n",
      "Report_TransactionEffectiveDate    datetime64[ns]\n",
      "Currency                                   object\n",
      "Institution                                 int64\n",
      "Branch                                      int64\n",
      "TransactionGroup                           object\n",
      "TransactionCode                            object\n",
      "TransactionBackdateFlag                    object\n",
      "TransactionAmount                         float64\n",
      "dtype: object\n"
     ]
    }
   ],
   "execution_count": 130
  },
  {
   "metadata": {
    "ExecuteTime": {
     "end_time": "2025-02-03T22:53:48.225663Z",
     "start_time": "2025-02-03T22:53:48.214487Z"
    }
   },
   "cell_type": "code",
   "source": [
    "## check for missing values\n",
    "print(\"Missing values: \", df.isnull().sum())"
   ],
   "id": "3cb9377c8f5615db",
   "outputs": [
    {
     "name": "stdout",
     "output_type": "stream",
     "text": [
      "Missing values:  FileFolder                         0\n",
      "FileName                           0\n",
      "Report_Title                       0\n",
      "Report_RunDate                     0\n",
      "Report_AsOfDate                    0\n",
      "Report_TransactionEffectiveDate    0\n",
      "Currency                           0\n",
      "Institution                        0\n",
      "Branch                             0\n",
      "TransactionGroup                   0\n",
      "TransactionCode                    0\n",
      "TransactionBackdateFlag            0\n",
      "TransactionAmount                  0\n",
      "dtype: int64\n"
     ]
    }
   ],
   "execution_count": 131
  },
  {
   "metadata": {
    "ExecuteTime": {
     "end_time": "2025-02-03T22:53:48.278779Z",
     "start_time": "2025-02-03T22:53:48.233003Z"
    }
   },
   "cell_type": "code",
   "source": [
    "## Explore date columns\n",
    "print(\"Report_RunDate range: \", df['Report_RunDate'].dt.date.min(),\" - \", df['Report_RunDate'].dt.date.max())\n",
    "print(\"Report_AsOfDate range: \", df['Report_AsOfDate'].dt.date.min(),\" - \", df['Report_AsOfDate'].dt.date.max())\n",
    "print(\"Report_TransactionEffectiveDate range: \", df['Report_TransactionEffectiveDate'].dt.date.min(),\" - \", df['Report_TransactionEffectiveDate'].dt.date.max())"
   ],
   "id": "3f5ac51ffd9603df",
   "outputs": [
    {
     "name": "stdout",
     "output_type": "stream",
     "text": [
      "Report_RunDate range:  2014-01-01  -  2021-01-04\n",
      "Report_AsOfDate range:  2013-12-31  -  2020-12-31\n",
      "Report_TransactionEffectiveDate range:  2013-12-30  -  2020-12-31\n"
     ]
    }
   ],
   "execution_count": 132
  },
  {
   "metadata": {
    "ExecuteTime": {
     "end_time": "2025-02-03T22:53:48.293506Z",
     "start_time": "2025-02-03T22:53:48.284829Z"
    }
   },
   "cell_type": "code",
   "source": [
    "## Explore transaction groups and codes\n",
    "print(\"Unique TransactionGroups:\", df['TransactionGroup'].nunique())\n",
    "print(\"Unique TransactionCodes:\", df['TransactionCode'].nunique())\n",
    "print(\"TransactionGroup Distribution:\\n\", df['TransactionGroup'].value_counts())\n",
    "print(\"TransactionCode Distribution:\\n\", df['TransactionCode'].value_counts())"
   ],
   "id": "59122530f3e7de1b",
   "outputs": [
    {
     "name": "stdout",
     "output_type": "stream",
     "text": [
      "Unique TransactionGroups: 2\n",
      "Unique TransactionCodes: 56\n",
      "TransactionGroup Distribution:\n",
      " TransactionGroup\n",
      "C    43402\n",
      "D    24329\n",
      "Name: count, dtype: int64\n",
      "TransactionCode Distribution:\n",
      " TransactionCode\n",
      "BC    26003\n",
      "AS     8280\n",
      "FT     4295\n",
      "ET     3429\n",
      "ES     2623\n",
      "TM     2597\n",
      "BT     2548\n",
      "TX     2248\n",
      "QC     1812\n",
      "RM     1657\n",
      "CP     1534\n",
      "SD     1250\n",
      "DP     1229\n",
      "OP     1117\n",
      "DM     1030\n",
      "FC      802\n",
      "FA      733\n",
      "BF      723\n",
      "UR      662\n",
      "XR      632\n",
      "BA      368\n",
      "CM      209\n",
      "DA      191\n",
      "FX      171\n",
      "UC      110\n",
      "IR      100\n",
      "TC       85\n",
      "LS       85\n",
      "OF       85\n",
      "PP       85\n",
      "DD       85\n",
      "E1       84\n",
      "FE       84\n",
      "AO       82\n",
      "DI       80\n",
      "MD       79\n",
      "ER       64\n",
      "BL       62\n",
      "EA       61\n",
      "E2       54\n",
      "EF       53\n",
      "E3       33\n",
      "TT       33\n",
      "EB       32\n",
      "TA       31\n",
      "CD       25\n",
      "LI       23\n",
      "PS       18\n",
      "FF       15\n",
      "XE       12\n",
      "AT        9\n",
      "DV        6\n",
      "RI        5\n",
      "OD        4\n",
      "XC        2\n",
      "ML        2\n",
      "Name: count, dtype: int64\n"
     ]
    }
   ],
   "execution_count": 133
  },
  {
   "metadata": {
    "ExecuteTime": {
     "end_time": "2025-02-03T22:53:48.475164Z",
     "start_time": "2025-02-03T22:53:48.464838Z"
    }
   },
   "cell_type": "code",
   "source": [
    "## Analyze transaction amount\n",
    "print(\"TransactionAmount Summary:\\n\", df['TransactionAmount'].apply(abs).describe())\n"
   ],
   "id": "f9c9976f96ff980a",
   "outputs": [
    {
     "name": "stdout",
     "output_type": "stream",
     "text": [
      "TransactionAmount Summary:\n",
      " count    67731.000000\n",
      "mean      1949.131636\n",
      "std       3153.737524\n",
      "min          0.000000\n",
      "25%        359.200060\n",
      "50%       1023.409378\n",
      "75%       2373.025426\n",
      "max      43170.159194\n",
      "Name: TransactionAmount, dtype: float64\n"
     ]
    }
   ],
   "execution_count": 134
  },
  {
   "metadata": {
    "ExecuteTime": {
     "end_time": "2025-02-03T22:53:48.599725Z",
     "start_time": "2025-02-03T22:53:48.520457Z"
    }
   },
   "cell_type": "code",
   "source": [
    "plt.figure(figsize=(12, 6))\n",
    "ax = sns.countplot(y='TransactionGroup', data=df, order=df['TransactionGroup'].value_counts().index)\n",
    "ax.bar_label(ax.containers[0])\n",
    "plt.title('Transaction Group Distribution')\n",
    "plt.show()"
   ],
   "id": "34e4ed9f1dfc979e",
   "outputs": [
    {
     "data": {
      "text/plain": [
       "<Figure size 1200x600 with 1 Axes>"
      ],
      "image/png": "[encoded data removed]"
     },
     "metadata": {},
     "output_type": "display_data"
    }
   ],
   "execution_count": 135
  }
 ],
 "metadata": {
  "kernelspec": {
   "display_name": "Python 3",
   "language": "python",
   "name": "python3"
  },
  "language_info": {
   "codemirror_mode": {
    "name": "ipython",
    "version": 2
   },
   "file_extension": ".py",
   "mimetype": "text/x-python",
   "name": "python",
   "nbconvert_exporter": "python",
   "pygments_lexer": "ipython2",
   "version": "2.7.6"
  }
 },
 "nbformat": 4,
 "nbformat_minor": 5
}
