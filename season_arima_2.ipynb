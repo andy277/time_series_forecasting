{
 "cells": [
  {
   "cell_type": "code",
   "id": "initial_id",
   "metadata": {
    "collapsed": true,
    "ExecuteTime": {
     "end_time": "2025-02-06T02:30:45.392218Z",
     "start_time": "2025-02-06T02:30:45.386262Z"
    }
   },
   "source": [
    "import pandas as pd\n",
    "import numpy as np\n",
    "import matplotlib.pyplot as plt\n",
    "from pmdarima.arima import auto_arima\n",
    "from statsmodels.tsa.statespace.sarimax import SARIMAX\n",
    "from sklearn.metrics import mean_absolute_error, mean_squared_error\n",
    "from pandas.tseries.offsets import BQuarterEnd\n",
    "import warnings\n",
    "warnings.filterwarnings('ignore')"
   ],
   "outputs": [],
   "execution_count": 41
  },
  {
   "metadata": {
    "ExecuteTime": {
     "end_time": "2025-02-06T02:30:59.751723Z",
     "start_time": "2025-02-06T02:30:45.400202Z"
    }
   },
   "cell_type": "code",
   "source": "df = pd.read_excel(\"AIB_History_Training_2014-2020.xlsx\", sheet_name='HistoricalTransactions')\n",
   "id": "a5611eefea4b58f4",
   "outputs": [],
   "execution_count": 42
  },
  {
   "metadata": {
    "ExecuteTime": {
     "end_time": "2025-02-06T02:30:59.784413Z",
     "start_time": "2025-02-06T02:30:59.772024Z"
    }
   },
   "cell_type": "code",
   "source": [
    "df = df.drop(columns=[\"FileFolder\", \"FileName\", \"Report_Title\", \"Report_RunDate\", \"Report_AsOfDate\", \"Currency\", \"Institution\", \"Branch\", \"TransactionBackdateFlag\", \"TransactionCode\", \"TransactionGroup\"])\n",
    "df.head()"
   ],
   "id": "110f8003e64d5c77",
   "outputs": [
    {
     "data": {
      "text/plain": [
       "  Report_TransactionEffectiveDate  TransactionAmount\n",
       "0                      2013-12-30        -972.619715\n",
       "1                      2013-12-30         -75.956876\n",
       "2                      2013-12-30         127.430470\n",
       "3                      2013-12-30         -38.300469\n",
       "4                      2013-12-30        -117.467137"
      ],
      "text/html": [
       "<div>\n",
       "<style scoped>\n",
       "    .dataframe tbody tr th:only-of-type {\n",
       "        vertical-align: middle;\n",
       "    }\n",
       "\n",
       "    .dataframe tbody tr th {\n",
       "        vertical-align: top;\n",
       "    }\n",
       "\n",
       "    .dataframe thead th {\n",
       "        text-align: right;\n",
       "    }\n",
       "</style>\n",
       "<table border=\"1\" class=\"dataframe\">\n",
       "  <thead>\n",
       "    <tr style=\"text-align: right;\">\n",
       "      <th></th>\n",
       "      <th>Report_TransactionEffectiveDate</th>\n",
       "      <th>TransactionAmount</th>\n",
       "    </tr>\n",
       "  </thead>\n",
       "  <tbody>\n",
       "    <tr>\n",
       "      <th>0</th>\n",
       "      <td>2013-12-30</td>\n",
       "      <td>-972.619715</td>\n",
       "    </tr>\n",
       "    <tr>\n",
       "      <th>1</th>\n",
       "      <td>2013-12-30</td>\n",
       "      <td>-75.956876</td>\n",
       "    </tr>\n",
       "    <tr>\n",
       "      <th>2</th>\n",
       "      <td>2013-12-30</td>\n",
       "      <td>127.430470</td>\n",
       "    </tr>\n",
       "    <tr>\n",
       "      <th>3</th>\n",
       "      <td>2013-12-30</td>\n",
       "      <td>-38.300469</td>\n",
       "    </tr>\n",
       "    <tr>\n",
       "      <th>4</th>\n",
       "      <td>2013-12-30</td>\n",
       "      <td>-117.467137</td>\n",
       "    </tr>\n",
       "  </tbody>\n",
       "</table>\n",
       "</div>"
      ]
     },
     "execution_count": 43,
     "metadata": {},
     "output_type": "execute_result"
    }
   ],
   "execution_count": 43
  },
  {
   "metadata": {
    "ExecuteTime": {
     "end_time": "2025-02-06T02:30:59.856007Z",
     "start_time": "2025-02-06T02:30:59.845008Z"
    }
   },
   "cell_type": "code",
   "source": [
    "df.set_index(\"Report_TransactionEffectiveDate\", inplace=True)\n",
    "df.head()"
   ],
   "id": "c1d3ba41c1244fd0",
   "outputs": [
    {
     "data": {
      "text/plain": [
       "                                 TransactionAmount\n",
       "Report_TransactionEffectiveDate                   \n",
       "2013-12-30                             -972.619715\n",
       "2013-12-30                              -75.956876\n",
       "2013-12-30                              127.430470\n",
       "2013-12-30                              -38.300469\n",
       "2013-12-30                             -117.467137"
      ],
      "text/html": [
       "<div>\n",
       "<style scoped>\n",
       "    .dataframe tbody tr th:only-of-type {\n",
       "        vertical-align: middle;\n",
       "    }\n",
       "\n",
       "    .dataframe tbody tr th {\n",
       "        vertical-align: top;\n",
       "    }\n",
       "\n",
       "    .dataframe thead th {\n",
       "        text-align: right;\n",
       "    }\n",
       "</style>\n",
       "<table border=\"1\" class=\"dataframe\">\n",
       "  <thead>\n",
       "    <tr style=\"text-align: right;\">\n",
       "      <th></th>\n",
       "      <th>TransactionAmount</th>\n",
       "    </tr>\n",
       "    <tr>\n",
       "      <th>Report_TransactionEffectiveDate</th>\n",
       "      <th></th>\n",
       "    </tr>\n",
       "  </thead>\n",
       "  <tbody>\n",
       "    <tr>\n",
       "      <th>2013-12-30</th>\n",
       "      <td>-972.619715</td>\n",
       "    </tr>\n",
       "    <tr>\n",
       "      <th>2013-12-30</th>\n",
       "      <td>-75.956876</td>\n",
       "    </tr>\n",
       "    <tr>\n",
       "      <th>2013-12-30</th>\n",
       "      <td>127.430470</td>\n",
       "    </tr>\n",
       "    <tr>\n",
       "      <th>2013-12-30</th>\n",
       "      <td>-38.300469</td>\n",
       "    </tr>\n",
       "    <tr>\n",
       "      <th>2013-12-30</th>\n",
       "      <td>-117.467137</td>\n",
       "    </tr>\n",
       "  </tbody>\n",
       "</table>\n",
       "</div>"
      ]
     },
     "execution_count": 44,
     "metadata": {},
     "output_type": "execute_result"
    }
   ],
   "execution_count": 44
  },
  {
   "metadata": {
    "ExecuteTime": {
     "end_time": "2025-02-06T02:31:00.041135Z",
     "start_time": "2025-02-06T02:30:59.988523Z"
    }
   },
   "cell_type": "code",
   "source": [
    "df = df.groupby([\"Report_TransactionEffectiveDate\"])[\"TransactionAmount\"].sum().asfreq('B').fillna(0).to_frame()\n",
    "df"
   ],
   "id": "af8e40dc3584717",
   "outputs": [
    {
     "data": {
      "text/plain": [
       "                                 TransactionAmount\n",
       "Report_TransactionEffectiveDate                   \n",
       "2013-12-30                            -1076.913729\n",
       "2013-12-31                           -41733.273687\n",
       "2014-01-01                            -3465.890925\n",
       "2014-01-02                           -45506.653405\n",
       "2014-01-03                           -18386.381900\n",
       "...                                            ...\n",
       "2020-12-25                             1613.384621\n",
       "2020-12-28                                0.000000\n",
       "2020-12-29                            82156.304473\n",
       "2020-12-30                            22316.790026\n",
       "2020-12-31                           152923.026916\n",
       "\n",
       "[1829 rows x 1 columns]"
      ],
      "text/html": [
       "<div>\n",
       "<style scoped>\n",
       "    .dataframe tbody tr th:only-of-type {\n",
       "        vertical-align: middle;\n",
       "    }\n",
       "\n",
       "    .dataframe tbody tr th {\n",
       "        vertical-align: top;\n",
       "    }\n",
       "\n",
       "    .dataframe thead th {\n",
       "        text-align: right;\n",
       "    }\n",
       "</style>\n",
       "<table border=\"1\" class=\"dataframe\">\n",
       "  <thead>\n",
       "    <tr style=\"text-align: right;\">\n",
       "      <th></th>\n",
       "      <th>TransactionAmount</th>\n",
       "    </tr>\n",
       "    <tr>\n",
       "      <th>Report_TransactionEffectiveDate</th>\n",
       "      <th></th>\n",
       "    </tr>\n",
       "  </thead>\n",
       "  <tbody>\n",
       "    <tr>\n",
       "      <th>2013-12-30</th>\n",
       "      <td>-1076.913729</td>\n",
       "    </tr>\n",
       "    <tr>\n",
       "      <th>2013-12-31</th>\n",
       "      <td>-41733.273687</td>\n",
       "    </tr>\n",
       "    <tr>\n",
       "      <th>2014-01-01</th>\n",
       "      <td>-3465.890925</td>\n",
       "    </tr>\n",
       "    <tr>\n",
       "      <th>2014-01-02</th>\n",
       "      <td>-45506.653405</td>\n",
       "    </tr>\n",
       "    <tr>\n",
       "      <th>2014-01-03</th>\n",
       "      <td>-18386.381900</td>\n",
       "    </tr>\n",
       "    <tr>\n",
       "      <th>...</th>\n",
       "      <td>...</td>\n",
       "    </tr>\n",
       "    <tr>\n",
       "      <th>2020-12-25</th>\n",
       "      <td>1613.384621</td>\n",
       "    </tr>\n",
       "    <tr>\n",
       "      <th>2020-12-28</th>\n",
       "      <td>0.000000</td>\n",
       "    </tr>\n",
       "    <tr>\n",
       "      <th>2020-12-29</th>\n",
       "      <td>82156.304473</td>\n",
       "    </tr>\n",
       "    <tr>\n",
       "      <th>2020-12-30</th>\n",
       "      <td>22316.790026</td>\n",
       "    </tr>\n",
       "    <tr>\n",
       "      <th>2020-12-31</th>\n",
       "      <td>152923.026916</td>\n",
       "    </tr>\n",
       "  </tbody>\n",
       "</table>\n",
       "<p>1829 rows × 1 columns</p>\n",
       "</div>"
      ]
     },
     "execution_count": 45,
     "metadata": {},
     "output_type": "execute_result"
    }
   ],
   "execution_count": 45
  },
  {
   "metadata": {
    "ExecuteTime": {
     "end_time": "2025-02-06T02:31:00.146949Z",
     "start_time": "2025-02-06T02:31:00.138527Z"
    }
   },
   "cell_type": "code",
   "source": [
    "# Check for extreme outliers\n",
    "q1, q3 = df['TransactionAmount'].quantile([0.25, 0.75])\n",
    "iqr = q3 - q1\n",
    "lower_bound = q1 - 1.5 * iqr\n",
    "upper_bound = q3 + 1.5 * iqr\n",
    "\n",
    "outliers = df[(df['TransactionAmount'] < lower_bound) | (df['TransactionAmount'] > upper_bound)]\n",
    "print(\"Outliers detected:\", len(outliers))"
   ],
   "id": "d5d2ab2e89a36fb1",
   "outputs": [
    {
     "name": "stdout",
     "output_type": "stream",
     "text": [
      "Outliers detected: 63\n"
     ]
    }
   ],
   "execution_count": 46
  },
  {
   "metadata": {
    "ExecuteTime": {
     "end_time": "2025-02-06T02:31:00.237440Z",
     "start_time": "2025-02-06T02:31:00.229149Z"
    }
   },
   "cell_type": "code",
   "source": "df['TransactionAmount'] = np.clip(df['TransactionAmount'], lower_bound, upper_bound)\n",
   "id": "6aad33743a0ada8e",
   "outputs": [],
   "execution_count": 47
  },
  {
   "metadata": {
    "ExecuteTime": {
     "end_time": "2025-02-06T02:31:15.079277Z",
     "start_time": "2025-02-06T02:31:00.263451Z"
    }
   },
   "cell_type": "code",
   "source": [
    "def find_best_sarima_params(data, seasonal=True, m=7):\n",
    "    model = auto_arima(data, seasonal=seasonal, m=m, stepwise=True, suppress_warnings=True, trace=False)\n",
    "    return model.order, model.seasonal_order\n",
    "\n",
    "model_order, model_seasonal = find_best_sarima_params(df)\n"
   ],
   "id": "de12874b21aaf623",
   "outputs": [],
   "execution_count": 48
  },
  {
   "metadata": {
    "ExecuteTime": {
     "end_time": "2025-02-06T02:31:15.343458Z",
     "start_time": "2025-02-06T02:31:15.108355Z"
    }
   },
   "cell_type": "code",
   "source": [
    "def fit_arima_model(data, order, seasonal):\n",
    "    model = SARIMAX(data, order=order, seasonal=seasonal, enforce_stationarity=False, enforce_invertibility=False)\n",
    "    results = model.fit(disp=False)\n",
    "    return results\n",
    "\n",
    "model_test = fit_arima_model(df, model_order, model_seasonal)"
   ],
   "id": "b23ccfc5cfc3fade",
   "outputs": [],
   "execution_count": 49
  },
  {
   "metadata": {
    "ExecuteTime": {
     "end_time": "2025-02-06T02:31:15.356087Z",
     "start_time": "2025-02-06T02:31:15.349470Z"
    }
   },
   "cell_type": "code",
   "source": [
    "def evaluate_model(model, actual_data, ):\n",
    "    predicted = model.fittedvalues\n",
    "    mae = mean_absolute_error(actual_data, predicted)\n",
    "    rmse = np.sqrt(mean_squared_error(actual_data, predicted))\n",
    "    print(f\"Model Evaluation: MAE={mae:.2f}, RMSE={rmse:.2f}\")\n",
    "\n",
    "    return mae, rmse"
   ],
   "id": "d6edfbe5bd704f2f",
   "outputs": [],
   "execution_count": 50
  },
  {
   "metadata": {
    "ExecuteTime": {
     "end_time": "2025-02-06T02:31:15.381464Z",
     "start_time": "2025-02-06T02:31:15.370462Z"
    }
   },
   "cell_type": "code",
   "source": "model_mae, model_rmse = evaluate_model(model_test, df)\n",
   "id": "1872b7667d40a28b",
   "outputs": [
    {
     "name": "stdout",
     "output_type": "stream",
     "text": [
      "Model Evaluation: MAE=16190.74, RMSE=21082.92\n"
     ]
    }
   ],
   "execution_count": 51
  },
  {
   "metadata": {
    "ExecuteTime": {
     "end_time": "2025-02-06T02:31:15.692176Z",
     "start_time": "2025-02-06T02:31:15.397625Z"
    }
   },
   "cell_type": "code",
   "source": [
    "actual_model = fit_arima_model(df, model_order, model_seasonal)\n",
    "\n",
    "last_date = df.index[-1]\n",
    "forecast_days = 90\n",
    "# Calculate dates for forecasting\n",
    "future_dates = pd.date_range(start=last_date + pd.Timedelta(days=1), periods=forecast_days, freq='B')\n",
    "\n",
    "forecast = actual_model.forecast(steps=len(future_dates))\n",
    "forecasts_df = pd.DataFrame({\n",
    "    'total_forecast': forecast,  # Total transaction forecast\n",
    "}, index=future_dates)\n",
    "\n",
    "forecasts_df"
   ],
   "id": "be374003d2099d62",
   "outputs": [
    {
     "data": {
      "text/plain": [
       "            total_forecast\n",
       "2021-01-01    26385.013719\n",
       "2021-01-04    26385.013719\n",
       "2021-01-05    26385.013719\n",
       "2021-01-06    26385.013719\n",
       "2021-01-07    26385.013719\n",
       "...                    ...\n",
       "2021-04-30    26385.013719\n",
       "2021-05-03    26385.013719\n",
       "2021-05-04    26385.013719\n",
       "2021-05-05    26385.013719\n",
       "2021-05-06    26385.013719\n",
       "\n",
       "[90 rows x 1 columns]"
      ],
      "text/html": [
       "<div>\n",
       "<style scoped>\n",
       "    .dataframe tbody tr th:only-of-type {\n",
       "        vertical-align: middle;\n",
       "    }\n",
       "\n",
       "    .dataframe tbody tr th {\n",
       "        vertical-align: top;\n",
       "    }\n",
       "\n",
       "    .dataframe thead th {\n",
       "        text-align: right;\n",
       "    }\n",
       "</style>\n",
       "<table border=\"1\" class=\"dataframe\">\n",
       "  <thead>\n",
       "    <tr style=\"text-align: right;\">\n",
       "      <th></th>\n",
       "      <th>total_forecast</th>\n",
       "    </tr>\n",
       "  </thead>\n",
       "  <tbody>\n",
       "    <tr>\n",
       "      <th>2021-01-01</th>\n",
       "      <td>26385.013719</td>\n",
       "    </tr>\n",
       "    <tr>\n",
       "      <th>2021-01-04</th>\n",
       "      <td>26385.013719</td>\n",
       "    </tr>\n",
       "    <tr>\n",
       "      <th>2021-01-05</th>\n",
       "      <td>26385.013719</td>\n",
       "    </tr>\n",
       "    <tr>\n",
       "      <th>2021-01-06</th>\n",
       "      <td>26385.013719</td>\n",
       "    </tr>\n",
       "    <tr>\n",
       "      <th>2021-01-07</th>\n",
       "      <td>26385.013719</td>\n",
       "    </tr>\n",
       "    <tr>\n",
       "      <th>...</th>\n",
       "      <td>...</td>\n",
       "    </tr>\n",
       "    <tr>\n",
       "      <th>2021-04-30</th>\n",
       "      <td>26385.013719</td>\n",
       "    </tr>\n",
       "    <tr>\n",
       "      <th>2021-05-03</th>\n",
       "      <td>26385.013719</td>\n",
       "    </tr>\n",
       "    <tr>\n",
       "      <th>2021-05-04</th>\n",
       "      <td>26385.013719</td>\n",
       "    </tr>\n",
       "    <tr>\n",
       "      <th>2021-05-05</th>\n",
       "      <td>26385.013719</td>\n",
       "    </tr>\n",
       "    <tr>\n",
       "      <th>2021-05-06</th>\n",
       "      <td>26385.013719</td>\n",
       "    </tr>\n",
       "  </tbody>\n",
       "</table>\n",
       "<p>90 rows × 1 columns</p>\n",
       "</div>"
      ]
     },
     "execution_count": 52,
     "metadata": {},
     "output_type": "execute_result"
    }
   ],
   "execution_count": 52
  }
 ],
 "metadata": {
  "kernelspec": {
   "display_name": "Python 3",
   "language": "python",
   "name": "python3"
  },
  "language_info": {
   "codemirror_mode": {
    "name": "ipython",
    "version": 2
   },
   "file_extension": ".py",
   "mimetype": "text/x-python",
   "name": "python",
   "nbconvert_exporter": "python",
   "pygments_lexer": "ipython2",
   "version": "2.7.6"
  }
 },
 "nbformat": 4,
 "nbformat_minor": 5
}
