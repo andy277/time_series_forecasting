{
 "cells": [
  {
   "cell_type": "code",
   "id": "initial_id",
   "metadata": {
    "collapsed": true,
    "ExecuteTime": {
     "end_time": "2025-02-04T07:00:55.443745Z",
     "start_time": "2025-02-04T07:00:55.438975Z"
    }
   },
   "source": [
    "import pandas as pd\n",
    "import numpy as np\n",
    "from sklearn.model_selection import TimeSeriesSplit\n",
    "from statsmodels.tsa.arima.model import ARIMA\n",
    "from pmdarima.arima import auto_arima\n",
    "from sklearn.metrics import mean_absolute_error, mean_squared_error\n",
    "import matplotlib.pyplot as plt\n",
    "import warnings\n",
    "warnings.filterwarnings('ignore')"
   ],
   "outputs": [],
   "execution_count": 440
  },
  {
   "metadata": {
    "ExecuteTime": {
     "end_time": "2025-02-04T07:01:01.683363Z",
     "start_time": "2025-02-04T07:00:55.448069Z"
    }
   },
   "cell_type": "code",
   "source": [
    "df = pd.read_excel(\"AIB_History_Training_2014-2020.xlsx\", sheet_name='HistoricalTransactions')\n",
    "df.head()"
   ],
   "id": "385b0715a6b08f96",
   "outputs": [
    {
     "data": {
      "text/plain": [
       "            FileFolder      FileName    Report_Title Report_RunDate  \\\n",
       "0  Generic Random Data  AIBC0101.001  AIBC 0809TTTBB     2014-01-01   \n",
       "1  Generic Random Data  AIBC0101.001  AIBC 0809TTTBB     2014-01-01   \n",
       "2  Generic Random Data  AIBC0101.001  AIBC 0809TTTBB     2014-01-01   \n",
       "3  Generic Random Data  AIBC0101.001  AIBC 0809TTTBB     2014-01-01   \n",
       "4  Generic Random Data  AIBC0101.001  AIBC 0809TTTBB     2014-01-01   \n",
       "\n",
       "  Report_AsOfDate Report_TransactionEffectiveDate Currency  Institution  \\\n",
       "0      2013-12-31                      2013-12-30      CAD            1   \n",
       "1      2013-12-31                      2013-12-30      CAD            1   \n",
       "2      2013-12-31                      2013-12-30      CAD            1   \n",
       "3      2013-12-31                      2013-12-30      CAD            1   \n",
       "4      2013-12-31                      2013-12-30      CAD            1   \n",
       "\n",
       "   Branch TransactionGroup TransactionCode TransactionBackdateFlag  \\\n",
       "0       1                D              CP                     Yes   \n",
       "1       1                D              UR                     Yes   \n",
       "2       1                C              CP                     Yes   \n",
       "3       1                D              UR                     Yes   \n",
       "4       1                D              UR                     Yes   \n",
       "\n",
       "   TransactionAmount  \n",
       "0        -972.619715  \n",
       "1         -75.956876  \n",
       "2         127.430470  \n",
       "3         -38.300469  \n",
       "4        -117.467137  "
      ],
      "text/html": [
       "<div>\n",
       "<style scoped>\n",
       "    .dataframe tbody tr th:only-of-type {\n",
       "        vertical-align: middle;\n",
       "    }\n",
       "\n",
       "    .dataframe tbody tr th {\n",
       "        vertical-align: top;\n",
       "    }\n",
       "\n",
       "    .dataframe thead th {\n",
       "        text-align: right;\n",
       "    }\n",
       "</style>\n",
       "<table border=\"1\" class=\"dataframe\">\n",
       "  <thead>\n",
       "    <tr style=\"text-align: right;\">\n",
       "      <th></th>\n",
       "      <th>FileFolder</th>\n",
       "      <th>FileName</th>\n",
       "      <th>Report_Title</th>\n",
       "      <th>Report_RunDate</th>\n",
       "      <th>Report_AsOfDate</th>\n",
       "      <th>Report_TransactionEffectiveDate</th>\n",
       "      <th>Currency</th>\n",
       "      <th>Institution</th>\n",
       "      <th>Branch</th>\n",
       "      <th>TransactionGroup</th>\n",
       "      <th>TransactionCode</th>\n",
       "      <th>TransactionBackdateFlag</th>\n",
       "      <th>TransactionAmount</th>\n",
       "    </tr>\n",
       "  </thead>\n",
       "  <tbody>\n",
       "    <tr>\n",
       "      <th>0</th>\n",
       "      <td>Generic Random Data</td>\n",
       "      <td>AIBC0101.001</td>\n",
       "      <td>AIBC 0809TTTBB</td>\n",
       "      <td>2014-01-01</td>\n",
       "      <td>2013-12-31</td>\n",
       "      <td>2013-12-30</td>\n",
       "      <td>CAD</td>\n",
       "      <td>1</td>\n",
       "      <td>1</td>\n",
       "      <td>D</td>\n",
       "      <td>CP</td>\n",
       "      <td>Yes</td>\n",
       "      <td>-972.619715</td>\n",
       "    </tr>\n",
       "    <tr>\n",
       "      <th>1</th>\n",
       "      <td>Generic Random Data</td>\n",
       "      <td>AIBC0101.001</td>\n",
       "      <td>AIBC 0809TTTBB</td>\n",
       "      <td>2014-01-01</td>\n",
       "      <td>2013-12-31</td>\n",
       "      <td>2013-12-30</td>\n",
       "      <td>CAD</td>\n",
       "      <td>1</td>\n",
       "      <td>1</td>\n",
       "      <td>D</td>\n",
       "      <td>UR</td>\n",
       "      <td>Yes</td>\n",
       "      <td>-75.956876</td>\n",
       "    </tr>\n",
       "    <tr>\n",
       "      <th>2</th>\n",
       "      <td>Generic Random Data</td>\n",
       "      <td>AIBC0101.001</td>\n",
       "      <td>AIBC 0809TTTBB</td>\n",
       "      <td>2014-01-01</td>\n",
       "      <td>2013-12-31</td>\n",
       "      <td>2013-12-30</td>\n",
       "      <td>CAD</td>\n",
       "      <td>1</td>\n",
       "      <td>1</td>\n",
       "      <td>C</td>\n",
       "      <td>CP</td>\n",
       "      <td>Yes</td>\n",
       "      <td>127.430470</td>\n",
       "    </tr>\n",
       "    <tr>\n",
       "      <th>3</th>\n",
       "      <td>Generic Random Data</td>\n",
       "      <td>AIBC0101.001</td>\n",
       "      <td>AIBC 0809TTTBB</td>\n",
       "      <td>2014-01-01</td>\n",
       "      <td>2013-12-31</td>\n",
       "      <td>2013-12-30</td>\n",
       "      <td>CAD</td>\n",
       "      <td>1</td>\n",
       "      <td>1</td>\n",
       "      <td>D</td>\n",
       "      <td>UR</td>\n",
       "      <td>Yes</td>\n",
       "      <td>-38.300469</td>\n",
       "    </tr>\n",
       "    <tr>\n",
       "      <th>4</th>\n",
       "      <td>Generic Random Data</td>\n",
       "      <td>AIBC0101.001</td>\n",
       "      <td>AIBC 0809TTTBB</td>\n",
       "      <td>2014-01-01</td>\n",
       "      <td>2013-12-31</td>\n",
       "      <td>2013-12-30</td>\n",
       "      <td>CAD</td>\n",
       "      <td>1</td>\n",
       "      <td>1</td>\n",
       "      <td>D</td>\n",
       "      <td>UR</td>\n",
       "      <td>Yes</td>\n",
       "      <td>-117.467137</td>\n",
       "    </tr>\n",
       "  </tbody>\n",
       "</table>\n",
       "</div>"
      ]
     },
     "execution_count": 441,
     "metadata": {},
     "output_type": "execute_result"
    }
   ],
   "execution_count": 441
  },
  {
   "metadata": {
    "ExecuteTime": {
     "end_time": "2025-02-04T07:01:01.687531Z",
     "start_time": "2025-02-04T07:01:01.684541Z"
    }
   },
   "cell_type": "code",
   "source": [
    "df = df.drop(columns=[\"FileFolder\", \"FileName\", \"Report_Title\", \"Report_RunDate\", \"Report_AsOfDate\", \"Currency\", \"Institution\", \"Branch\", \"TransactionBackdateFlag\", \"TransactionCode\"])\n",
    "df.shape"
   ],
   "id": "c2a2b2f0a21cddc",
   "outputs": [
    {
     "data": {
      "text/plain": [
       "(67731, 3)"
      ]
     },
     "execution_count": 442,
     "metadata": {},
     "output_type": "execute_result"
    }
   ],
   "execution_count": 442
  },
  {
   "metadata": {
    "ExecuteTime": {
     "end_time": "2025-02-04T07:01:01.696009Z",
     "start_time": "2025-02-04T07:01:01.688319Z"
    }
   },
   "cell_type": "code",
   "source": [
    "## Split data into Debit and Credit\n",
    "credit_df = df[df[\"TransactionGroup\"] == \"C\"].copy()\n",
    "debit_df = df[df[\"TransactionGroup\"] == \"D\"].copy()\n",
    "print(\"Credit Shape: \", credit_df.shape)\n",
    "print(\"Debit Shape: \", debit_df.shape)"
   ],
   "id": "c75790fd15801586",
   "outputs": [
    {
     "name": "stdout",
     "output_type": "stream",
     "text": [
      "Credit Shape:  (43402, 3)\n",
      "Debit Shape:  (24329, 3)\n"
     ]
    }
   ],
   "execution_count": 443
  },
  {
   "metadata": {
    "ExecuteTime": {
     "end_time": "2025-02-04T07:01:01.703143Z",
     "start_time": "2025-02-04T07:01:01.697733Z"
    }
   },
   "cell_type": "code",
   "source": [
    "## Group by date\n",
    "daily_credit = credit_df.groupby(\"Report_TransactionEffectiveDate\")[\"TransactionAmount\"].sum().asfreq(\"D\")\n",
    "daily_debit = debit_df.groupby(\"Report_TransactionEffectiveDate\")[\"TransactionAmount\"].sum().asfreq(\"D\")\n",
    "\n",
    "print(\"Daily Credit Missing Values: \", daily_credit.isnull().sum())\n",
    "print(\"Daily Debit Missing Values: \", daily_debit.isnull().sum())"
   ],
   "id": "b415956dc5386f7e",
   "outputs": [
    {
     "name": "stdout",
     "output_type": "stream",
     "text": [
      "Daily Credit Missing Values:  809\n",
      "Daily Debit Missing Values:  787\n"
     ]
    }
   ],
   "execution_count": 444
  },
  {
   "metadata": {
    "ExecuteTime": {
     "end_time": "2025-02-04T07:01:01.707212Z",
     "start_time": "2025-02-04T07:01:01.704025Z"
    }
   },
   "cell_type": "code",
   "source": [
    "## Fill n/a with 0\n",
    "daily_credit = daily_credit.fillna(method=\"ffill\").fillna(method=\"bfill\")\n",
    "daily_debit = daily_debit.fillna(method=\"ffill\").fillna(method=\"bfill\")\n",
    "\n",
    "print(\"Daily Credit Missing Values: \", daily_credit.isnull().sum())\n",
    "print(\"Daily Debit Missing Values: \", daily_debit.isnull().sum())"
   ],
   "id": "8ab28259b43c80e3",
   "outputs": [
    {
     "name": "stdout",
     "output_type": "stream",
     "text": [
      "Daily Credit Missing Values:  0\n",
      "Daily Debit Missing Values:  0\n"
     ]
    }
   ],
   "execution_count": 445
  },
  {
   "metadata": {
    "ExecuteTime": {
     "end_time": "2025-02-04T07:01:01.710523Z",
     "start_time": "2025-02-04T07:01:01.708092Z"
    }
   },
   "cell_type": "code",
   "source": [
    "## Rows of daily credit and debit transactions\n",
    "print(\"Daily Credit Rows: \", daily_credit.shape[0])\n",
    "print(\"Daily Debit Rows: \", daily_debit.shape[0])"
   ],
   "id": "c26772c58c226379",
   "outputs": [
    {
     "name": "stdout",
     "output_type": "stream",
     "text": [
      "Daily Credit Rows:  2559\n",
      "Daily Debit Rows:  2559\n"
     ]
    }
   ],
   "execution_count": 446
  },
  {
   "metadata": {
    "ExecuteTime": {
     "end_time": "2025-02-04T07:01:01.725960Z",
     "start_time": "2025-02-04T07:01:01.711436Z"
    }
   },
   "cell_type": "code",
   "source": [
    "## Function to split train and test sets\n",
    "def split_train_test_time_series(data, n_splits=5, test_size=None):\n",
    "    X = data.values.reshape(-1, 1)\n",
    "    \n",
    "    tscv = TimeSeriesSplit(n_splits=n_splits, max_train_size=None, test_size=test_size)\n",
    "    \n",
    "    train_indices = []\n",
    "    test_indices = []\n",
    "    \n",
    "    for train_index, test_index in tscv.split(X):\n",
    "        train_indices.append(train_index)\n",
    "        test_indices.append(test_index)\n",
    "    \n",
    "    return data.iloc[train_indices[-1]], data.iloc[test_indices[-1]]\n",
    "\n",
    "## Split train and test sets\n",
    "credit_train, credit_test = split_train_test_time_series(daily_credit, test_size=int(len(daily_credit) * 0.2))\n",
    "debit_train, debit_test = split_train_test_time_series(daily_debit, test_size=int(len(daily_debit) * 0.2))\n"
   ],
   "id": "b4c6597fc27354de",
   "outputs": [],
   "execution_count": 447
  },
  {
   "metadata": {
    "ExecuteTime": {
     "end_time": "2025-02-04T07:01:21.051638Z",
     "start_time": "2025-02-04T07:01:01.726848Z"
    }
   },
   "cell_type": "code",
   "source": [
    "## Pick p,d,m for arima model using auto-arima for the most optimal parameters (Non-seasonal)\n",
    "def create_arima_model(train, test):\n",
    "    ## Find Best parameters \n",
    "    auto_model = auto_arima(train, start_p= 0, start_p0=0, max_p=5, max_q=5,m=1, d=None, seasonal=False, trace=False, error_action='ignore', suppress_warnings=True, stepwise=True)\n",
    "    ## Fit model\n",
    "    model = ARIMA(train, order=auto_model.order)\n",
    "    model_results = model.fit()\n",
    "    \n",
    "    ## Forecast on test set\n",
    "    forecast = model_results.forecast(steps=len(test))\n",
    "    \n",
    "    ## Error metrics\n",
    "    mae = mean_absolute_error(test, forecast)\n",
    "    mse = mean_squared_error(test, forecast)\n",
    "    rmse = np.sqrt(mse)\n",
    "    \n",
    "    return {\n",
    "        'model': model_results,\n",
    "        'forecast': forecast,\n",
    "        'order': auto_model.order,\n",
    "        'mae': mae,\n",
    "        'mse': mse,\n",
    "        'rmse': rmse\n",
    "    }\n",
    "\n",
    "forecast_credit_results = create_arima_model(credit_train, credit_test)\n",
    "forecast_debit_results = create_arima_model(debit_train, debit_test)"
   ],
   "id": "84a5e14e5006d1b0",
   "outputs": [],
   "execution_count": 448
  },
  {
   "metadata": {
    "ExecuteTime": {
     "end_time": "2025-02-04T07:01:21.074258Z",
     "start_time": "2025-02-04T07:01:21.053418Z"
    }
   },
   "cell_type": "code",
   "source": [
    "## Print Performance\n",
    "print(\"Credit Transaction Model:\")\n",
    "print(f\"ARIMA Order: {forecast_credit_results['order']}\")\n",
    "print(f\"Mean Absolute Error: {forecast_credit_results['mae']}\")\n",
    "print(f\"Root Mean Squared Error: {forecast_credit_results['rmse']}\")\n",
    "\n",
    "print(\"\\nDebit Transaction Model:\")\n",
    "print(f\"ARIMA Order: {forecast_debit_results['order']}\")\n",
    "print(f\"Mean Absolute Error: {forecast_debit_results['mae']}\")\n",
    "print(f\"Root Mean Squared Error: {forecast_debit_results['rmse']}\")\n"
   ],
   "id": "cd9df71446e901e0",
   "outputs": [
    {
     "name": "stdout",
     "output_type": "stream",
     "text": [
      "Credit Transaction Model:\n",
      "ARIMA Order: (3, 1, 5)\n",
      "Mean Absolute Error: 18189.012665446695\n",
      "Root Mean Squared Error: 23833.80391066019\n",
      "\n",
      "Debit Transaction Model:\n",
      "ARIMA Order: (5, 1, 0)\n",
      "Mean Absolute Error: 11667.265263745578\n",
      "Root Mean Squared Error: 13936.23027370524\n"
     ]
    }
   ],
   "execution_count": 449
  },
  {
   "metadata": {
    "ExecuteTime": {
     "end_time": "2025-02-04T07:01:22.949609Z",
     "start_time": "2025-02-04T07:01:21.097420Z"
    }
   },
   "cell_type": "code",
   "source": [
    "## Perform full forecast for 90 days\n",
    "def create_full_forecast_model(data, order):\n",
    "    model = ARIMA(data, order=order)\n",
    "    model_results = model.fit()\n",
    "    \n",
    "    forecast_steps = 90\n",
    "    forecast = model_results.forecast(steps=forecast_steps)\n",
    "    return forecast\n",
    "\n",
    "full_forecast_credit_results = create_full_forecast_model(daily_credit, forecast_credit_results['order'])\n",
    "full_forecast_debit_results = create_full_forecast_model(daily_debit, forecast_debit_results['order'])\n",
    "print(full_forecast_debit_results)"
   ],
   "id": "a80f7b453bd6c20",
   "outputs": [
    {
     "name": "stdout",
     "output_type": "stream",
     "text": [
      "2021-01-01   -31836.464532\n",
      "2021-01-02   -30434.167365\n",
      "2021-01-03   -30063.880571\n",
      "2021-01-04   -32138.432632\n",
      "2021-01-05   -32756.903500\n",
      "                  ...     \n",
      "2021-03-27   -32308.735269\n",
      "2021-03-28   -32308.735269\n",
      "2021-03-29   -32308.735269\n",
      "2021-03-30   -32308.735269\n",
      "2021-03-31   -32308.735269\n",
      "Freq: D, Name: predicted_mean, Length: 90, dtype: float64\n"
     ]
    }
   ],
   "execution_count": 450
  },
  {
   "metadata": {
    "ExecuteTime": {
     "end_time": "2025-02-04T07:01:22.965406Z",
     "start_time": "2025-02-04T07:01:22.951952Z"
    }
   },
   "cell_type": "code",
   "source": [
    "## Create full forecaste DataFrame\n",
    "full_forecast_df = pd.DataFrame({\n",
    "    \"PredictedCreditAmount\": full_forecast_credit_results,\n",
    "    \"PredictedDebitAmount\": full_forecast_debit_results\n",
    "})\n",
    "\n",
    "full_forecast_df[\"AveragePredictedAmount\"] = (full_forecast_df[\"PredictedCreditAmount\"] + full_forecast_df[\"PredictedDebitAmount\"]) / 2\n",
    "full_forecast_df"
   ],
   "id": "e5a353b01b07fa04",
   "outputs": [
    {
     "data": {
      "text/plain": [
       "            PredictedCreditAmount  PredictedDebitAmount  \\\n",
       "2021-01-01           92601.793121         -31836.464532   \n",
       "2021-01-02           60797.101213         -30434.167365   \n",
       "2021-01-03           51926.860986         -30063.880571   \n",
       "2021-01-04           64007.031702         -32138.432632   \n",
       "2021-01-05           50733.587146         -32756.903500   \n",
       "...                           ...                   ...   \n",
       "2021-03-27           58898.790155         -32308.735269   \n",
       "2021-03-28           50416.233716         -32308.735269   \n",
       "2021-03-29           61893.706556         -32308.735269   \n",
       "2021-03-30           49699.648231         -32308.735269   \n",
       "2021-03-31           60188.392436         -32308.735269   \n",
       "\n",
       "            AveragePredictedAmount  \n",
       "2021-01-01            30382.664295  \n",
       "2021-01-02            15181.466924  \n",
       "2021-01-03            10931.490208  \n",
       "2021-01-04            15934.299535  \n",
       "2021-01-05             8988.341823  \n",
       "...                            ...  \n",
       "2021-03-27            13295.027443  \n",
       "2021-03-28             9053.749223  \n",
       "2021-03-29            14792.485643  \n",
       "2021-03-30             8695.456481  \n",
       "2021-03-31            13939.828583  \n",
       "\n",
       "[90 rows x 3 columns]"
      ],
      "text/html": [
       "<div>\n",
       "<style scoped>\n",
       "    .dataframe tbody tr th:only-of-type {\n",
       "        vertical-align: middle;\n",
       "    }\n",
       "\n",
       "    .dataframe tbody tr th {\n",
       "        vertical-align: top;\n",
       "    }\n",
       "\n",
       "    .dataframe thead th {\n",
       "        text-align: right;\n",
       "    }\n",
       "</style>\n",
       "<table border=\"1\" class=\"dataframe\">\n",
       "  <thead>\n",
       "    <tr style=\"text-align: right;\">\n",
       "      <th></th>\n",
       "      <th>PredictedCreditAmount</th>\n",
       "      <th>PredictedDebitAmount</th>\n",
       "      <th>AveragePredictedAmount</th>\n",
       "    </tr>\n",
       "  </thead>\n",
       "  <tbody>\n",
       "    <tr>\n",
       "      <th>2021-01-01</th>\n",
       "      <td>92601.793121</td>\n",
       "      <td>-31836.464532</td>\n",
       "      <td>30382.664295</td>\n",
       "    </tr>\n",
       "    <tr>\n",
       "      <th>2021-01-02</th>\n",
       "      <td>60797.101213</td>\n",
       "      <td>-30434.167365</td>\n",
       "      <td>15181.466924</td>\n",
       "    </tr>\n",
       "    <tr>\n",
       "      <th>2021-01-03</th>\n",
       "      <td>51926.860986</td>\n",
       "      <td>-30063.880571</td>\n",
       "      <td>10931.490208</td>\n",
       "    </tr>\n",
       "    <tr>\n",
       "      <th>2021-01-04</th>\n",
       "      <td>64007.031702</td>\n",
       "      <td>-32138.432632</td>\n",
       "      <td>15934.299535</td>\n",
       "    </tr>\n",
       "    <tr>\n",
       "      <th>2021-01-05</th>\n",
       "      <td>50733.587146</td>\n",
       "      <td>-32756.903500</td>\n",
       "      <td>8988.341823</td>\n",
       "    </tr>\n",
       "    <tr>\n",
       "      <th>...</th>\n",
       "      <td>...</td>\n",
       "      <td>...</td>\n",
       "      <td>...</td>\n",
       "    </tr>\n",
       "    <tr>\n",
       "      <th>2021-03-27</th>\n",
       "      <td>58898.790155</td>\n",
       "      <td>-32308.735269</td>\n",
       "      <td>13295.027443</td>\n",
       "    </tr>\n",
       "    <tr>\n",
       "      <th>2021-03-28</th>\n",
       "      <td>50416.233716</td>\n",
       "      <td>-32308.735269</td>\n",
       "      <td>9053.749223</td>\n",
       "    </tr>\n",
       "    <tr>\n",
       "      <th>2021-03-29</th>\n",
       "      <td>61893.706556</td>\n",
       "      <td>-32308.735269</td>\n",
       "      <td>14792.485643</td>\n",
       "    </tr>\n",
       "    <tr>\n",
       "      <th>2021-03-30</th>\n",
       "      <td>49699.648231</td>\n",
       "      <td>-32308.735269</td>\n",
       "      <td>8695.456481</td>\n",
       "    </tr>\n",
       "    <tr>\n",
       "      <th>2021-03-31</th>\n",
       "      <td>60188.392436</td>\n",
       "      <td>-32308.735269</td>\n",
       "      <td>13939.828583</td>\n",
       "    </tr>\n",
       "  </tbody>\n",
       "</table>\n",
       "<p>90 rows × 3 columns</p>\n",
       "</div>"
      ]
     },
     "execution_count": 451,
     "metadata": {},
     "output_type": "execute_result"
    }
   ],
   "execution_count": 451
  },
  {
   "metadata": {
    "ExecuteTime": {
     "end_time": "2025-02-04T07:01:23.113829Z",
     "start_time": "2025-02-04T07:01:22.967439Z"
    }
   },
   "cell_type": "code",
   "source": [
    "plt.figure(figsize=(15, 10))\n",
    "full_forecast_df.plot(y='AveragePredictedAmount', kind='line')\n",
    "plt.show()"
   ],
   "id": "ac8fec76db92cc",
   "outputs": [
    {
     "data": {
      "text/plain": [
       "<Figure size 1500x1000 with 0 Axes>"
      ]
     },
     "metadata": {},
     "output_type": "display_data"
    },
    {
     "data": {
      "text/plain": [
       "<Figure size 640x480 with 1 Axes>"
      ],
      "image/png": "[encoded data removed]"
     },
     "metadata": {},
     "output_type": "display_data"
    }
   ],
   "execution_count": 452
  }
 ],
 "metadata": {
  "kernelspec": {
   "display_name": "Python 3",
   "language": "python",
   "name": "python3"
  },
  "language_info": {
   "codemirror_mode": {
    "name": "ipython",
    "version": 2
   },
   "file_extension": ".py",
   "mimetype": "text/x-python",
   "name": "python",
   "nbconvert_exporter": "python",
   "pygments_lexer": "ipython2",
   "version": "2.7.6"
  }
 },
 "nbformat": 4,
 "nbformat_minor": 5
}
