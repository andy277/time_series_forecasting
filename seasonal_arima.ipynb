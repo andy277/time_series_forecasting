{
 "cells": [
  {
   "cell_type": "code",
   "id": "initial_id",
   "metadata": {
    "collapsed": true,
    "ExecuteTime": {
     "end_time": "2025-02-04T20:10:41.616623Z",
     "start_time": "2025-02-04T20:10:41.613098Z"
    }
   },
   "source": [
    "import pandas as pd\n",
    "import numpy as np\n",
    "import matplotlib.pyplot as plt \n",
    "from pmdarima.arima import auto_arima\n",
    "from statsmodels.tsa.statespace.sarimax import SARIMAX\n",
    "from sklearn.metrics import mean_absolute_error, mean_squared_error\n",
    "import warnings\n",
    "warnings.filterwarnings('ignore')"
   ],
   "outputs": [],
   "execution_count": 124
  },
  {
   "metadata": {
    "ExecuteTime": {
     "end_time": "2025-02-04T20:10:45.130161Z",
     "start_time": "2025-02-04T20:10:41.618362Z"
    }
   },
   "cell_type": "code",
   "source": "df = pd.read_excel(\"AIB_History_Training_2014-2020.xlsx\", sheet_name='HistoricalTransactions')",
   "id": "a7b0ca10f1dbdc90",
   "outputs": [],
   "execution_count": 125
  },
  {
   "metadata": {
    "ExecuteTime": {
     "end_time": "2025-02-04T20:10:45.135978Z",
     "start_time": "2025-02-04T20:10:45.130909Z"
    }
   },
   "cell_type": "code",
   "source": [
    "df = df.drop(columns=[\"FileFolder\", \"FileName\", \"Report_Title\", \"Report_RunDate\", \"Report_AsOfDate\", \"Currency\", \"Institution\", \"Branch\", \"TransactionBackdateFlag\", \"TransactionCode\"])\n",
    "df.head()"
   ],
   "id": "5478cc5d0daf5174",
   "outputs": [
    {
     "data": {
      "text/plain": [
       "  Report_TransactionEffectiveDate TransactionGroup  TransactionAmount\n",
       "0                      2013-12-30                D        -972.619715\n",
       "1                      2013-12-30                D         -75.956876\n",
       "2                      2013-12-30                C         127.430470\n",
       "3                      2013-12-30                D         -38.300469\n",
       "4                      2013-12-30                D        -117.467137"
      ],
      "text/html": [
       "<div>\n",
       "<style scoped>\n",
       "    .dataframe tbody tr th:only-of-type {\n",
       "        vertical-align: middle;\n",
       "    }\n",
       "\n",
       "    .dataframe tbody tr th {\n",
       "        vertical-align: top;\n",
       "    }\n",
       "\n",
       "    .dataframe thead th {\n",
       "        text-align: right;\n",
       "    }\n",
       "</style>\n",
       "<table border=\"1\" class=\"dataframe\">\n",
       "  <thead>\n",
       "    <tr style=\"text-align: right;\">\n",
       "      <th></th>\n",
       "      <th>Report_TransactionEffectiveDate</th>\n",
       "      <th>TransactionGroup</th>\n",
       "      <th>TransactionAmount</th>\n",
       "    </tr>\n",
       "  </thead>\n",
       "  <tbody>\n",
       "    <tr>\n",
       "      <th>0</th>\n",
       "      <td>2013-12-30</td>\n",
       "      <td>D</td>\n",
       "      <td>-972.619715</td>\n",
       "    </tr>\n",
       "    <tr>\n",
       "      <th>1</th>\n",
       "      <td>2013-12-30</td>\n",
       "      <td>D</td>\n",
       "      <td>-75.956876</td>\n",
       "    </tr>\n",
       "    <tr>\n",
       "      <th>2</th>\n",
       "      <td>2013-12-30</td>\n",
       "      <td>C</td>\n",
       "      <td>127.430470</td>\n",
       "    </tr>\n",
       "    <tr>\n",
       "      <th>3</th>\n",
       "      <td>2013-12-30</td>\n",
       "      <td>D</td>\n",
       "      <td>-38.300469</td>\n",
       "    </tr>\n",
       "    <tr>\n",
       "      <th>4</th>\n",
       "      <td>2013-12-30</td>\n",
       "      <td>D</td>\n",
       "      <td>-117.467137</td>\n",
       "    </tr>\n",
       "  </tbody>\n",
       "</table>\n",
       "</div>"
      ]
     },
     "execution_count": 126,
     "metadata": {},
     "output_type": "execute_result"
    }
   ],
   "execution_count": 126
  },
  {
   "metadata": {
    "ExecuteTime": {
     "end_time": "2025-02-04T20:10:45.140378Z",
     "start_time": "2025-02-04T20:10:45.137204Z"
    }
   },
   "cell_type": "code",
   "source": [
    "df.set_index(\"Report_TransactionEffectiveDate\", inplace=True)\n",
    "df.head()"
   ],
   "id": "20274246f180aa1e",
   "outputs": [
    {
     "data": {
      "text/plain": [
       "                                TransactionGroup  TransactionAmount\n",
       "Report_TransactionEffectiveDate                                    \n",
       "2013-12-30                                     D        -972.619715\n",
       "2013-12-30                                     D         -75.956876\n",
       "2013-12-30                                     C         127.430470\n",
       "2013-12-30                                     D         -38.300469\n",
       "2013-12-30                                     D        -117.467137"
      ],
      "text/html": [
       "<div>\n",
       "<style scoped>\n",
       "    .dataframe tbody tr th:only-of-type {\n",
       "        vertical-align: middle;\n",
       "    }\n",
       "\n",
       "    .dataframe tbody tr th {\n",
       "        vertical-align: top;\n",
       "    }\n",
       "\n",
       "    .dataframe thead th {\n",
       "        text-align: right;\n",
       "    }\n",
       "</style>\n",
       "<table border=\"1\" class=\"dataframe\">\n",
       "  <thead>\n",
       "    <tr style=\"text-align: right;\">\n",
       "      <th></th>\n",
       "      <th>TransactionGroup</th>\n",
       "      <th>TransactionAmount</th>\n",
       "    </tr>\n",
       "    <tr>\n",
       "      <th>Report_TransactionEffectiveDate</th>\n",
       "      <th></th>\n",
       "      <th></th>\n",
       "    </tr>\n",
       "  </thead>\n",
       "  <tbody>\n",
       "    <tr>\n",
       "      <th>2013-12-30</th>\n",
       "      <td>D</td>\n",
       "      <td>-972.619715</td>\n",
       "    </tr>\n",
       "    <tr>\n",
       "      <th>2013-12-30</th>\n",
       "      <td>D</td>\n",
       "      <td>-75.956876</td>\n",
       "    </tr>\n",
       "    <tr>\n",
       "      <th>2013-12-30</th>\n",
       "      <td>C</td>\n",
       "      <td>127.430470</td>\n",
       "    </tr>\n",
       "    <tr>\n",
       "      <th>2013-12-30</th>\n",
       "      <td>D</td>\n",
       "      <td>-38.300469</td>\n",
       "    </tr>\n",
       "    <tr>\n",
       "      <th>2013-12-30</th>\n",
       "      <td>D</td>\n",
       "      <td>-117.467137</td>\n",
       "    </tr>\n",
       "  </tbody>\n",
       "</table>\n",
       "</div>"
      ]
     },
     "execution_count": 127,
     "metadata": {},
     "output_type": "execute_result"
    }
   ],
   "execution_count": 127
  },
  {
   "metadata": {
    "ExecuteTime": {
     "end_time": "2025-02-04T20:10:45.154783Z",
     "start_time": "2025-02-04T20:10:45.141035Z"
    }
   },
   "cell_type": "code",
   "source": [
    "## Create Debit and Credit df\n",
    "credit_df = df[df[\"TransactionGroup\"] == \"C\"].groupby([\"Report_TransactionEffectiveDate\"])[\"TransactionAmount\"].sum().asfreq('D')\n",
    "debit_df = df[df[\"TransactionGroup\"] == \"D\"].groupby([\"Report_TransactionEffectiveDate\"])[\"TransactionAmount\"].sum().asfreq('D')\n",
    "\n",
    "## Fill missing values\n",
    "credit_df = credit_df.fillna(method='ffill').fillna(method='bfill')\n",
    "debit_df = debit_df.fillna(0)"
   ],
   "id": "784356473f94d041",
   "outputs": [],
   "execution_count": 128
  },
  {
   "metadata": {
    "ExecuteTime": {
     "end_time": "2025-02-04T20:11:01.635616Z",
     "start_time": "2025-02-04T20:10:45.155501Z"
    }
   },
   "cell_type": "code",
   "source": [
    "# Find best sarima params\n",
    "def find_best_sarima_params(data, seasonal=True, m=7):\n",
    "    model = auto_arima(data, seasonal=seasonal, m=m, stepwise=True, suppress_warnings=True, trace=False)\n",
    "    return model.order, model.seasonal_order\n",
    "\n",
    "credit_order, credit_seasonal= find_best_sarima_params(credit_df)\n",
    "debit_order, debit_seasonal= find_best_sarima_params(debit_df)\n",
    "print(\"Credit Order: \", credit_order)\n",
    "print(\"Credit Seasonal: \", credit_seasonal)\n",
    "print(\"Debit Order: \", debit_order)\n",
    "print(\"Debit Seasonal: \", debit_seasonal)"
   ],
   "id": "92e81d3bf78ac0f9",
   "outputs": [
    {
     "ename": "KeyboardInterrupt",
     "evalue": "",
     "output_type": "error",
     "traceback": [
      "\u001B[0;31m---------------------------------------------------------------------------\u001B[0m",
      "\u001B[0;31mKeyboardInterrupt\u001B[0m                         Traceback (most recent call last)",
      "Cell \u001B[0;32mIn[129], line 6\u001B[0m\n\u001B[1;32m      3\u001B[0m     model \u001B[38;5;241m=\u001B[39m auto_arima(data, seasonal\u001B[38;5;241m=\u001B[39mseasonal, m\u001B[38;5;241m=\u001B[39mm, stepwise\u001B[38;5;241m=\u001B[39m\u001B[38;5;28;01mTrue\u001B[39;00m, suppress_warnings\u001B[38;5;241m=\u001B[39m\u001B[38;5;28;01mTrue\u001B[39;00m, trace\u001B[38;5;241m=\u001B[39m\u001B[38;5;28;01mFalse\u001B[39;00m)\n\u001B[1;32m      4\u001B[0m     \u001B[38;5;28;01mreturn\u001B[39;00m model\u001B[38;5;241m.\u001B[39morder, model\u001B[38;5;241m.\u001B[39mseasonal_order\n\u001B[0;32m----> 6\u001B[0m credit_order, credit_seasonal\u001B[38;5;241m=\u001B[39m \u001B[43mfind_best_sarima_params\u001B[49m\u001B[43m(\u001B[49m\u001B[43mcredit_df\u001B[49m\u001B[43m)\u001B[49m\n\u001B[1;32m      7\u001B[0m debit_order, debit_seasonal\u001B[38;5;241m=\u001B[39m find_best_sarima_params(debit_df)\n\u001B[1;32m      8\u001B[0m \u001B[38;5;28mprint\u001B[39m(\u001B[38;5;124m\"\u001B[39m\u001B[38;5;124mCredit Order: \u001B[39m\u001B[38;5;124m\"\u001B[39m, credit_order)\n",
      "Cell \u001B[0;32mIn[129], line 3\u001B[0m, in \u001B[0;36mfind_best_sarima_params\u001B[0;34m(data, seasonal, m)\u001B[0m\n\u001B[1;32m      2\u001B[0m \u001B[38;5;28;01mdef\u001B[39;00m\u001B[38;5;250m \u001B[39m\u001B[38;5;21mfind_best_sarima_params\u001B[39m(data, seasonal\u001B[38;5;241m=\u001B[39m\u001B[38;5;28;01mTrue\u001B[39;00m, m\u001B[38;5;241m=\u001B[39m\u001B[38;5;241m7\u001B[39m):\n\u001B[0;32m----> 3\u001B[0m     model \u001B[38;5;241m=\u001B[39m \u001B[43mauto_arima\u001B[49m\u001B[43m(\u001B[49m\u001B[43mdata\u001B[49m\u001B[43m,\u001B[49m\u001B[43m \u001B[49m\u001B[43mseasonal\u001B[49m\u001B[38;5;241;43m=\u001B[39;49m\u001B[43mseasonal\u001B[49m\u001B[43m,\u001B[49m\u001B[43m \u001B[49m\u001B[43mm\u001B[49m\u001B[38;5;241;43m=\u001B[39;49m\u001B[43mm\u001B[49m\u001B[43m,\u001B[49m\u001B[43m \u001B[49m\u001B[43mstepwise\u001B[49m\u001B[38;5;241;43m=\u001B[39;49m\u001B[38;5;28;43;01mTrue\u001B[39;49;00m\u001B[43m,\u001B[49m\u001B[43m \u001B[49m\u001B[43msuppress_warnings\u001B[49m\u001B[38;5;241;43m=\u001B[39;49m\u001B[38;5;28;43;01mTrue\u001B[39;49;00m\u001B[43m,\u001B[49m\u001B[43m \u001B[49m\u001B[43mtrace\u001B[49m\u001B[38;5;241;43m=\u001B[39;49m\u001B[38;5;28;43;01mFalse\u001B[39;49;00m\u001B[43m)\u001B[49m\n\u001B[1;32m      4\u001B[0m     \u001B[38;5;28;01mreturn\u001B[39;00m model\u001B[38;5;241m.\u001B[39morder, model\u001B[38;5;241m.\u001B[39mseasonal_order\n",
      "File \u001B[0;32m~/Projects/github.com/andy277/time_series_forecasting/.venv/lib/python3.12/site-packages/pmdarima/arima/auto.py:701\u001B[0m, in \u001B[0;36mauto_arima\u001B[0;34m(y, X, start_p, d, start_q, max_p, max_d, max_q, start_P, D, start_Q, max_P, max_D, max_Q, max_order, m, seasonal, stationary, information_criterion, alpha, test, seasonal_test, stepwise, n_jobs, start_params, trend, method, maxiter, offset_test_args, seasonal_test_args, suppress_warnings, error_action, trace, random, random_state, n_fits, return_valid_fits, out_of_sample_size, scoring, scoring_args, with_intercept, sarimax_kwargs, **fit_args)\u001B[0m\n\u001B[1;32m    669\u001B[0m     \u001B[38;5;66;03m# init the stepwise model wrapper\u001B[39;00m\n\u001B[1;32m    670\u001B[0m     search \u001B[38;5;241m=\u001B[39m solvers\u001B[38;5;241m.\u001B[39m_StepwiseFitWrapper(\n\u001B[1;32m    671\u001B[0m         y,\n\u001B[1;32m    672\u001B[0m         X\u001B[38;5;241m=\u001B[39mX,\n\u001B[0;32m   (...)\u001B[0m\n\u001B[1;32m    698\u001B[0m         \u001B[38;5;241m*\u001B[39m\u001B[38;5;241m*\u001B[39msarimax_kwargs,\n\u001B[1;32m    699\u001B[0m     )\n\u001B[0;32m--> 701\u001B[0m sorted_res \u001B[38;5;241m=\u001B[39m \u001B[43msearch\u001B[49m\u001B[38;5;241;43m.\u001B[39;49m\u001B[43msolve\u001B[49m\u001B[43m(\u001B[49m\u001B[43m)\u001B[49m\n\u001B[1;32m    702\u001B[0m \u001B[38;5;28;01mreturn\u001B[39;00m _return_wrapper(sorted_res, return_valid_fits, start, trace)\n",
      "File \u001B[0;32m~/Projects/github.com/andy277/time_series_forecasting/.venv/lib/python3.12/site-packages/pmdarima/arima/_auto_solvers.py:373\u001B[0m, in \u001B[0;36m_StepwiseFitWrapper.solve\u001B[0;34m(self)\u001B[0m\n\u001B[1;32m    368\u001B[0m     P \u001B[38;5;241m-\u001B[39m\u001B[38;5;241m=\u001B[39m \u001B[38;5;241m1\u001B[39m\n\u001B[1;32m    369\u001B[0m     \u001B[38;5;28;01mcontinue\u001B[39;00m\n\u001B[1;32m    371\u001B[0m \u001B[38;5;28;01mif\u001B[39;00m Q \u001B[38;5;241m>\u001B[39m \u001B[38;5;241m0\u001B[39m \u001B[38;5;129;01mand\u001B[39;00m P \u001B[38;5;241m<\u001B[39m max_P \u001B[38;5;129;01mand\u001B[39;00m \\\n\u001B[1;32m    372\u001B[0m         \u001B[38;5;28mself\u001B[39m\u001B[38;5;241m.\u001B[39mk \u001B[38;5;241m<\u001B[39m \u001B[38;5;28mself\u001B[39m\u001B[38;5;241m.\u001B[39mmax_k \u001B[38;5;129;01mand\u001B[39;00m \\\n\u001B[0;32m--> 373\u001B[0m         \u001B[38;5;28;43mself\u001B[39;49m\u001B[38;5;241;43m.\u001B[39;49m\u001B[43m_do_fit\u001B[49m\u001B[43m(\u001B[49m\u001B[43m(\u001B[49m\u001B[43mp\u001B[49m\u001B[43m,\u001B[49m\u001B[43m \u001B[49m\u001B[43md\u001B[49m\u001B[43m,\u001B[49m\u001B[43m \u001B[49m\u001B[43mq\u001B[49m\u001B[43m)\u001B[49m\u001B[43m,\u001B[49m\u001B[43m \u001B[49m\u001B[43m(\u001B[49m\u001B[43mP\u001B[49m\u001B[43m \u001B[49m\u001B[38;5;241;43m+\u001B[39;49m\u001B[43m \u001B[49m\u001B[38;5;241;43m1\u001B[39;49m\u001B[43m,\u001B[49m\u001B[43m \u001B[49m\u001B[43mD\u001B[49m\u001B[43m,\u001B[49m\u001B[43m \u001B[49m\u001B[43mQ\u001B[49m\u001B[43m \u001B[49m\u001B[38;5;241;43m-\u001B[39;49m\u001B[43m \u001B[49m\u001B[38;5;241;43m1\u001B[39;49m\u001B[43m,\u001B[49m\u001B[43m \u001B[49m\u001B[43mm\u001B[49m\u001B[43m)\u001B[49m\u001B[43m)\u001B[49m:\n\u001B[1;32m    374\u001B[0m     Q \u001B[38;5;241m-\u001B[39m\u001B[38;5;241m=\u001B[39m \u001B[38;5;241m1\u001B[39m\n\u001B[1;32m    375\u001B[0m     P \u001B[38;5;241m+\u001B[39m\u001B[38;5;241m=\u001B[39m \u001B[38;5;241m1\u001B[39m\n",
      "File \u001B[0;32m~/Projects/github.com/andy277/time_series_forecasting/.venv/lib/python3.12/site-packages/pmdarima/arima/_auto_solvers.py:235\u001B[0m, in \u001B[0;36m_StepwiseFitWrapper._do_fit\u001B[0;34m(self, order, seasonal_order, constant)\u001B[0m\n\u001B[1;32m    230\u001B[0m \u001B[38;5;28;01mif\u001B[39;00m (order, seasonal_order, constant) \u001B[38;5;129;01mnot\u001B[39;00m \u001B[38;5;129;01min\u001B[39;00m \u001B[38;5;28mself\u001B[39m\u001B[38;5;241m.\u001B[39mresults_dict:\n\u001B[1;32m    231\u001B[0m \n\u001B[1;32m    232\u001B[0m     \u001B[38;5;66;03m# increment the number of fits\u001B[39;00m\n\u001B[1;32m    233\u001B[0m     \u001B[38;5;28mself\u001B[39m\u001B[38;5;241m.\u001B[39mk \u001B[38;5;241m+\u001B[39m\u001B[38;5;241m=\u001B[39m \u001B[38;5;241m1\u001B[39m\n\u001B[0;32m--> 235\u001B[0m     fit, fit_time, new_ic \u001B[38;5;241m=\u001B[39m \u001B[38;5;28;43mself\u001B[39;49m\u001B[38;5;241;43m.\u001B[39;49m\u001B[43m_fit_arima\u001B[49m\u001B[43m(\u001B[49m\n\u001B[1;32m    236\u001B[0m \u001B[43m        \u001B[49m\u001B[43morder\u001B[49m\u001B[38;5;241;43m=\u001B[39;49m\u001B[43morder\u001B[49m\u001B[43m,\u001B[49m\n\u001B[1;32m    237\u001B[0m \u001B[43m        \u001B[49m\u001B[43mseasonal_order\u001B[49m\u001B[38;5;241;43m=\u001B[39;49m\u001B[43mseasonal_order\u001B[49m\u001B[43m,\u001B[49m\n\u001B[1;32m    238\u001B[0m \u001B[43m        \u001B[49m\u001B[43mwith_intercept\u001B[49m\u001B[38;5;241;43m=\u001B[39;49m\u001B[43mconstant\u001B[49m\u001B[43m)\u001B[49m\n\u001B[1;32m    240\u001B[0m     \u001B[38;5;66;03m# use the orders as a key to be hashed for\u001B[39;00m\n\u001B[1;32m    241\u001B[0m     \u001B[38;5;66;03m# the dictionary (pointing to fit)\u001B[39;00m\n\u001B[1;32m    242\u001B[0m     \u001B[38;5;28mself\u001B[39m\u001B[38;5;241m.\u001B[39mresults_dict[(order, seasonal_order, constant)] \u001B[38;5;241m=\u001B[39m fit\n",
      "File \u001B[0;32m~/Projects/github.com/andy277/time_series_forecasting/.venv/lib/python3.12/site-packages/pmdarima/arima/_auto_solvers.py:508\u001B[0m, in \u001B[0;36m_fit_candidate_model\u001B[0;34m(y, X, order, seasonal_order, start_params, trend, method, maxiter, fit_params, suppress_warnings, trace, error_action, out_of_sample_size, scoring, scoring_args, with_intercept, information_criterion, **kwargs)\u001B[0m\n\u001B[1;32m    500\u001B[0m fit \u001B[38;5;241m=\u001B[39m ARIMA(order\u001B[38;5;241m=\u001B[39morder, seasonal_order\u001B[38;5;241m=\u001B[39mseasonal_order,\n\u001B[1;32m    501\u001B[0m             start_params\u001B[38;5;241m=\u001B[39mstart_params, trend\u001B[38;5;241m=\u001B[39mtrend, method\u001B[38;5;241m=\u001B[39mmethod,\n\u001B[1;32m    502\u001B[0m             maxiter\u001B[38;5;241m=\u001B[39mmaxiter, suppress_warnings\u001B[38;5;241m=\u001B[39msuppress_warnings,\n\u001B[1;32m    503\u001B[0m             out_of_sample_size\u001B[38;5;241m=\u001B[39mout_of_sample_size, scoring\u001B[38;5;241m=\u001B[39mscoring,\n\u001B[1;32m    504\u001B[0m             scoring_args\u001B[38;5;241m=\u001B[39mscoring_args,\n\u001B[1;32m    505\u001B[0m             with_intercept\u001B[38;5;241m=\u001B[39mwith_intercept, \u001B[38;5;241m*\u001B[39m\u001B[38;5;241m*\u001B[39mkwargs)\n\u001B[1;32m    507\u001B[0m \u001B[38;5;28;01mtry\u001B[39;00m:\n\u001B[0;32m--> 508\u001B[0m     \u001B[43mfit\u001B[49m\u001B[38;5;241;43m.\u001B[39;49m\u001B[43mfit\u001B[49m\u001B[43m(\u001B[49m\u001B[43my\u001B[49m\u001B[43m,\u001B[49m\u001B[43m \u001B[49m\u001B[43mX\u001B[49m\u001B[38;5;241;43m=\u001B[39;49m\u001B[43mX\u001B[49m\u001B[43m,\u001B[49m\u001B[43m \u001B[49m\u001B[38;5;241;43m*\u001B[39;49m\u001B[38;5;241;43m*\u001B[39;49m\u001B[43mfit_params\u001B[49m\u001B[43m)\u001B[49m\n\u001B[1;32m    510\u001B[0m \u001B[38;5;66;03m# for non-stationarity errors or singular matrices, return None\u001B[39;00m\n\u001B[1;32m    511\u001B[0m \u001B[38;5;28;01mexcept\u001B[39;00m (LinAlgError, \u001B[38;5;167;01mValueError\u001B[39;00m) \u001B[38;5;28;01mas\u001B[39;00m v:\n",
      "File \u001B[0;32m~/Projects/github.com/andy277/time_series_forecasting/.venv/lib/python3.12/site-packages/pmdarima/arima/arima.py:603\u001B[0m, in \u001B[0;36mARIMA.fit\u001B[0;34m(self, y, X, **fit_args)\u001B[0m\n\u001B[1;32m    600\u001B[0m         X \u001B[38;5;241m=\u001B[39m safe_indexing(X, \u001B[38;5;28mslice\u001B[39m(\u001B[38;5;241m0\u001B[39m, n_exog \u001B[38;5;241m-\u001B[39m cv))\n\u001B[1;32m    602\u001B[0m \u001B[38;5;66;03m# Internal call\u001B[39;00m\n\u001B[0;32m--> 603\u001B[0m \u001B[38;5;28;43mself\u001B[39;49m\u001B[38;5;241;43m.\u001B[39;49m\u001B[43m_fit\u001B[49m\u001B[43m(\u001B[49m\u001B[43my\u001B[49m\u001B[43m,\u001B[49m\u001B[43m \u001B[49m\u001B[43mX\u001B[49m\u001B[43m,\u001B[49m\u001B[43m \u001B[49m\u001B[38;5;241;43m*\u001B[39;49m\u001B[38;5;241;43m*\u001B[39;49m\u001B[43mfit_args\u001B[49m\u001B[43m)\u001B[49m\n\u001B[1;32m    605\u001B[0m \u001B[38;5;66;03m# now make a forecast if we're validating to compute the\u001B[39;00m\n\u001B[1;32m    606\u001B[0m \u001B[38;5;66;03m# out-of-sample score\u001B[39;00m\n\u001B[1;32m    607\u001B[0m \u001B[38;5;28;01mif\u001B[39;00m cv_samples \u001B[38;5;129;01mis\u001B[39;00m \u001B[38;5;129;01mnot\u001B[39;00m \u001B[38;5;28;01mNone\u001B[39;00m:\n\u001B[1;32m    608\u001B[0m     \u001B[38;5;66;03m# get the predictions (use self.predict, which calls forecast\u001B[39;00m\n\u001B[1;32m    609\u001B[0m     \u001B[38;5;66;03m# from statsmodels internally)\u001B[39;00m\n",
      "File \u001B[0;32m~/Projects/github.com/andy277/time_series_forecasting/.venv/lib/python3.12/site-packages/pmdarima/arima/arima.py:524\u001B[0m, in \u001B[0;36mARIMA._fit\u001B[0;34m(self, y, X, **fit_args)\u001B[0m\n\u001B[1;32m    522\u001B[0m     \u001B[38;5;28;01mwith\u001B[39;00m warnings\u001B[38;5;241m.\u001B[39mcatch_warnings(record\u001B[38;5;241m=\u001B[39m\u001B[38;5;28;01mFalse\u001B[39;00m):\n\u001B[1;32m    523\u001B[0m         warnings\u001B[38;5;241m.\u001B[39msimplefilter(\u001B[38;5;124m'\u001B[39m\u001B[38;5;124mignore\u001B[39m\u001B[38;5;124m'\u001B[39m)\n\u001B[0;32m--> 524\u001B[0m         fit, \u001B[38;5;28mself\u001B[39m\u001B[38;5;241m.\u001B[39marima_res_ \u001B[38;5;241m=\u001B[39m \u001B[43m_fit_wrapper\u001B[49m\u001B[43m(\u001B[49m\u001B[43m)\u001B[49m\n\u001B[1;32m    525\u001B[0m \u001B[38;5;28;01melse\u001B[39;00m:\n\u001B[1;32m    526\u001B[0m     fit, \u001B[38;5;28mself\u001B[39m\u001B[38;5;241m.\u001B[39marima_res_ \u001B[38;5;241m=\u001B[39m _fit_wrapper()\n",
      "File \u001B[0;32m~/Projects/github.com/andy277/time_series_forecasting/.venv/lib/python3.12/site-packages/pmdarima/arima/arima.py:510\u001B[0m, in \u001B[0;36mARIMA._fit.<locals>._fit_wrapper\u001B[0;34m()\u001B[0m\n\u001B[1;32m    507\u001B[0m _maxiter \u001B[38;5;241m=\u001B[39m fit_args\u001B[38;5;241m.\u001B[39mpop(\u001B[38;5;124m\"\u001B[39m\u001B[38;5;124mmaxiter\u001B[39m\u001B[38;5;124m\"\u001B[39m, _maxiter)\n\u001B[1;32m    509\u001B[0m disp \u001B[38;5;241m=\u001B[39m fit_args\u001B[38;5;241m.\u001B[39mpop(\u001B[38;5;124m\"\u001B[39m\u001B[38;5;124mdisp\u001B[39m\u001B[38;5;124m\"\u001B[39m, \u001B[38;5;241m0\u001B[39m)\n\u001B[0;32m--> 510\u001B[0m fitted \u001B[38;5;241m=\u001B[39m \u001B[43marima\u001B[49m\u001B[38;5;241;43m.\u001B[39;49m\u001B[43mfit\u001B[49m\u001B[43m(\u001B[49m\n\u001B[1;32m    511\u001B[0m \u001B[43m    \u001B[49m\u001B[43mstart_params\u001B[49m\u001B[38;5;241;43m=\u001B[39;49m\u001B[43mstart_params\u001B[49m\u001B[43m,\u001B[49m\n\u001B[1;32m    512\u001B[0m \u001B[43m    \u001B[49m\u001B[43mmethod\u001B[49m\u001B[38;5;241;43m=\u001B[39;49m\u001B[43mmethod\u001B[49m\u001B[43m,\u001B[49m\n\u001B[1;32m    513\u001B[0m \u001B[43m    \u001B[49m\u001B[43mmaxiter\u001B[49m\u001B[38;5;241;43m=\u001B[39;49m\u001B[43m_maxiter\u001B[49m\u001B[43m,\u001B[49m\n\u001B[1;32m    514\u001B[0m \u001B[43m    \u001B[49m\u001B[43mdisp\u001B[49m\u001B[38;5;241;43m=\u001B[39;49m\u001B[43mdisp\u001B[49m\u001B[43m,\u001B[49m\n\u001B[1;32m    515\u001B[0m \u001B[43m    \u001B[49m\u001B[38;5;241;43m*\u001B[39;49m\u001B[38;5;241;43m*\u001B[39;49m\u001B[43mfit_args\u001B[49m\u001B[43m,\u001B[49m\n\u001B[1;32m    516\u001B[0m \u001B[43m\u001B[49m\u001B[43m)\u001B[49m\n\u001B[1;32m    518\u001B[0m \u001B[38;5;28;01mreturn\u001B[39;00m arima, fitted\n",
      "File \u001B[0;32m~/Projects/github.com/andy277/time_series_forecasting/.venv/lib/python3.12/site-packages/statsmodels/tsa/statespace/mlemodel.py:705\u001B[0m, in \u001B[0;36mMLEModel.fit\u001B[0;34m(self, start_params, transformed, includes_fixed, cov_type, cov_kwds, method, maxiter, full_output, disp, callback, return_params, optim_score, optim_complex_step, optim_hessian, flags, low_memory, **kwargs)\u001B[0m\n\u001B[1;32m    703\u001B[0m         flags[\u001B[38;5;124m'\u001B[39m\u001B[38;5;124mhessian_method\u001B[39m\u001B[38;5;124m'\u001B[39m] \u001B[38;5;241m=\u001B[39m optim_hessian\n\u001B[1;32m    704\u001B[0m     fargs \u001B[38;5;241m=\u001B[39m (flags,)\n\u001B[0;32m--> 705\u001B[0m     mlefit \u001B[38;5;241m=\u001B[39m \u001B[38;5;28;43msuper\u001B[39;49m\u001B[43m(\u001B[49m\u001B[43m)\u001B[49m\u001B[38;5;241;43m.\u001B[39;49m\u001B[43mfit\u001B[49m\u001B[43m(\u001B[49m\u001B[43mstart_params\u001B[49m\u001B[43m,\u001B[49m\u001B[43m \u001B[49m\u001B[43mmethod\u001B[49m\u001B[38;5;241;43m=\u001B[39;49m\u001B[43mmethod\u001B[49m\u001B[43m,\u001B[49m\n\u001B[1;32m    706\u001B[0m \u001B[43m                         \u001B[49m\u001B[43mfargs\u001B[49m\u001B[38;5;241;43m=\u001B[39;49m\u001B[43mfargs\u001B[49m\u001B[43m,\u001B[49m\n\u001B[1;32m    707\u001B[0m \u001B[43m                         \u001B[49m\u001B[43mmaxiter\u001B[49m\u001B[38;5;241;43m=\u001B[39;49m\u001B[43mmaxiter\u001B[49m\u001B[43m,\u001B[49m\n\u001B[1;32m    708\u001B[0m \u001B[43m                         \u001B[49m\u001B[43mfull_output\u001B[49m\u001B[38;5;241;43m=\u001B[39;49m\u001B[43mfull_output\u001B[49m\u001B[43m,\u001B[49m\n\u001B[1;32m    709\u001B[0m \u001B[43m                         \u001B[49m\u001B[43mdisp\u001B[49m\u001B[38;5;241;43m=\u001B[39;49m\u001B[43mdisp\u001B[49m\u001B[43m,\u001B[49m\u001B[43m \u001B[49m\u001B[43mcallback\u001B[49m\u001B[38;5;241;43m=\u001B[39;49m\u001B[43mcallback\u001B[49m\u001B[43m,\u001B[49m\n\u001B[1;32m    710\u001B[0m \u001B[43m                         \u001B[49m\u001B[43mskip_hessian\u001B[49m\u001B[38;5;241;43m=\u001B[39;49m\u001B[38;5;28;43;01mTrue\u001B[39;49;00m\u001B[43m,\u001B[49m\u001B[43m \u001B[49m\u001B[38;5;241;43m*\u001B[39;49m\u001B[38;5;241;43m*\u001B[39;49m\u001B[43mkwargs\u001B[49m\u001B[43m)\u001B[49m\n\u001B[1;32m    712\u001B[0m \u001B[38;5;66;03m# Just return the fitted parameters if requested\u001B[39;00m\n\u001B[1;32m    713\u001B[0m \u001B[38;5;28;01mif\u001B[39;00m return_params:\n",
      "File \u001B[0;32m~/Projects/github.com/andy277/time_series_forecasting/.venv/lib/python3.12/site-packages/statsmodels/base/model.py:566\u001B[0m, in \u001B[0;36mLikelihoodModel.fit\u001B[0;34m(self, start_params, method, maxiter, full_output, disp, fargs, callback, retall, skip_hessian, **kwargs)\u001B[0m\n\u001B[1;32m    563\u001B[0m     \u001B[38;5;28;01mdel\u001B[39;00m kwargs[\u001B[38;5;124m\"\u001B[39m\u001B[38;5;124muse_t\u001B[39m\u001B[38;5;124m\"\u001B[39m]\n\u001B[1;32m    565\u001B[0m optimizer \u001B[38;5;241m=\u001B[39m Optimizer()\n\u001B[0;32m--> 566\u001B[0m xopt, retvals, optim_settings \u001B[38;5;241m=\u001B[39m \u001B[43moptimizer\u001B[49m\u001B[38;5;241;43m.\u001B[39;49m\u001B[43m_fit\u001B[49m\u001B[43m(\u001B[49m\u001B[43mf\u001B[49m\u001B[43m,\u001B[49m\u001B[43m \u001B[49m\u001B[43mscore\u001B[49m\u001B[43m,\u001B[49m\u001B[43m \u001B[49m\u001B[43mstart_params\u001B[49m\u001B[43m,\u001B[49m\n\u001B[1;32m    567\u001B[0m \u001B[43m                                               \u001B[49m\u001B[43mfargs\u001B[49m\u001B[43m,\u001B[49m\u001B[43m \u001B[49m\u001B[43mkwargs\u001B[49m\u001B[43m,\u001B[49m\n\u001B[1;32m    568\u001B[0m \u001B[43m                                               \u001B[49m\u001B[43mhessian\u001B[49m\u001B[38;5;241;43m=\u001B[39;49m\u001B[43mhess\u001B[49m\u001B[43m,\u001B[49m\n\u001B[1;32m    569\u001B[0m \u001B[43m                                               \u001B[49m\u001B[43mmethod\u001B[49m\u001B[38;5;241;43m=\u001B[39;49m\u001B[43mmethod\u001B[49m\u001B[43m,\u001B[49m\n\u001B[1;32m    570\u001B[0m \u001B[43m                                               \u001B[49m\u001B[43mdisp\u001B[49m\u001B[38;5;241;43m=\u001B[39;49m\u001B[43mdisp\u001B[49m\u001B[43m,\u001B[49m\n\u001B[1;32m    571\u001B[0m \u001B[43m                                               \u001B[49m\u001B[43mmaxiter\u001B[49m\u001B[38;5;241;43m=\u001B[39;49m\u001B[43mmaxiter\u001B[49m\u001B[43m,\u001B[49m\n\u001B[1;32m    572\u001B[0m \u001B[43m                                               \u001B[49m\u001B[43mcallback\u001B[49m\u001B[38;5;241;43m=\u001B[39;49m\u001B[43mcallback\u001B[49m\u001B[43m,\u001B[49m\n\u001B[1;32m    573\u001B[0m \u001B[43m                                               \u001B[49m\u001B[43mretall\u001B[49m\u001B[38;5;241;43m=\u001B[39;49m\u001B[43mretall\u001B[49m\u001B[43m,\u001B[49m\n\u001B[1;32m    574\u001B[0m \u001B[43m                                               \u001B[49m\u001B[43mfull_output\u001B[49m\u001B[38;5;241;43m=\u001B[39;49m\u001B[43mfull_output\u001B[49m\u001B[43m)\u001B[49m\n\u001B[1;32m    575\u001B[0m \u001B[38;5;66;03m# Restore cov_type, cov_kwds and use_t\u001B[39;00m\n\u001B[1;32m    576\u001B[0m optim_settings\u001B[38;5;241m.\u001B[39mupdate(kwds)\n",
      "File \u001B[0;32m~/Projects/github.com/andy277/time_series_forecasting/.venv/lib/python3.12/site-packages/statsmodels/base/optimizer.py:243\u001B[0m, in \u001B[0;36mOptimizer._fit\u001B[0;34m(self, objective, gradient, start_params, fargs, kwargs, hessian, method, maxiter, full_output, disp, callback, retall)\u001B[0m\n\u001B[1;32m    240\u001B[0m     fit_funcs\u001B[38;5;241m.\u001B[39mupdate(extra_fit_funcs)\n\u001B[1;32m    242\u001B[0m func \u001B[38;5;241m=\u001B[39m fit_funcs[method]\n\u001B[0;32m--> 243\u001B[0m xopt, retvals \u001B[38;5;241m=\u001B[39m \u001B[43mfunc\u001B[49m\u001B[43m(\u001B[49m\u001B[43mobjective\u001B[49m\u001B[43m,\u001B[49m\u001B[43m \u001B[49m\u001B[43mgradient\u001B[49m\u001B[43m,\u001B[49m\u001B[43m \u001B[49m\u001B[43mstart_params\u001B[49m\u001B[43m,\u001B[49m\u001B[43m \u001B[49m\u001B[43mfargs\u001B[49m\u001B[43m,\u001B[49m\u001B[43m \u001B[49m\u001B[43mkwargs\u001B[49m\u001B[43m,\u001B[49m\n\u001B[1;32m    244\u001B[0m \u001B[43m                     \u001B[49m\u001B[43mdisp\u001B[49m\u001B[38;5;241;43m=\u001B[39;49m\u001B[43mdisp\u001B[49m\u001B[43m,\u001B[49m\u001B[43m \u001B[49m\u001B[43mmaxiter\u001B[49m\u001B[38;5;241;43m=\u001B[39;49m\u001B[43mmaxiter\u001B[49m\u001B[43m,\u001B[49m\u001B[43m \u001B[49m\u001B[43mcallback\u001B[49m\u001B[38;5;241;43m=\u001B[39;49m\u001B[43mcallback\u001B[49m\u001B[43m,\u001B[49m\n\u001B[1;32m    245\u001B[0m \u001B[43m                     \u001B[49m\u001B[43mretall\u001B[49m\u001B[38;5;241;43m=\u001B[39;49m\u001B[43mretall\u001B[49m\u001B[43m,\u001B[49m\u001B[43m \u001B[49m\u001B[43mfull_output\u001B[49m\u001B[38;5;241;43m=\u001B[39;49m\u001B[43mfull_output\u001B[49m\u001B[43m,\u001B[49m\n\u001B[1;32m    246\u001B[0m \u001B[43m                     \u001B[49m\u001B[43mhess\u001B[49m\u001B[38;5;241;43m=\u001B[39;49m\u001B[43mhessian\u001B[49m\u001B[43m)\u001B[49m\n\u001B[1;32m    248\u001B[0m optim_settings \u001B[38;5;241m=\u001B[39m {\u001B[38;5;124m'\u001B[39m\u001B[38;5;124moptimizer\u001B[39m\u001B[38;5;124m'\u001B[39m: method, \u001B[38;5;124m'\u001B[39m\u001B[38;5;124mstart_params\u001B[39m\u001B[38;5;124m'\u001B[39m: start_params,\n\u001B[1;32m    249\u001B[0m                   \u001B[38;5;124m'\u001B[39m\u001B[38;5;124mmaxiter\u001B[39m\u001B[38;5;124m'\u001B[39m: maxiter, \u001B[38;5;124m'\u001B[39m\u001B[38;5;124mfull_output\u001B[39m\u001B[38;5;124m'\u001B[39m: full_output,\n\u001B[1;32m    250\u001B[0m                   \u001B[38;5;124m'\u001B[39m\u001B[38;5;124mdisp\u001B[39m\u001B[38;5;124m'\u001B[39m: disp, \u001B[38;5;124m'\u001B[39m\u001B[38;5;124mfargs\u001B[39m\u001B[38;5;124m'\u001B[39m: fargs, \u001B[38;5;124m'\u001B[39m\u001B[38;5;124mcallback\u001B[39m\u001B[38;5;124m'\u001B[39m: callback,\n\u001B[1;32m    251\u001B[0m                   \u001B[38;5;124m'\u001B[39m\u001B[38;5;124mretall\u001B[39m\u001B[38;5;124m'\u001B[39m: retall, \u001B[38;5;124m\"\u001B[39m\u001B[38;5;124mextra_fit_funcs\u001B[39m\u001B[38;5;124m\"\u001B[39m: extra_fit_funcs}\n\u001B[1;32m    252\u001B[0m optim_settings\u001B[38;5;241m.\u001B[39mupdate(kwargs)\n",
      "File \u001B[0;32m~/Projects/github.com/andy277/time_series_forecasting/.venv/lib/python3.12/site-packages/statsmodels/base/optimizer.py:660\u001B[0m, in \u001B[0;36m_fit_lbfgs\u001B[0;34m(f, score, start_params, fargs, kwargs, disp, maxiter, callback, retall, full_output, hess)\u001B[0m\n\u001B[1;32m    657\u001B[0m \u001B[38;5;28;01melif\u001B[39;00m approx_grad:\n\u001B[1;32m    658\u001B[0m     func \u001B[38;5;241m=\u001B[39m f\n\u001B[0;32m--> 660\u001B[0m retvals \u001B[38;5;241m=\u001B[39m \u001B[43moptimize\u001B[49m\u001B[38;5;241;43m.\u001B[39;49m\u001B[43mfmin_l_bfgs_b\u001B[49m\u001B[43m(\u001B[49m\u001B[43mfunc\u001B[49m\u001B[43m,\u001B[49m\u001B[43m \u001B[49m\u001B[43mstart_params\u001B[49m\u001B[43m,\u001B[49m\u001B[43m \u001B[49m\u001B[43mmaxiter\u001B[49m\u001B[38;5;241;43m=\u001B[39;49m\u001B[43mmaxiter\u001B[49m\u001B[43m,\u001B[49m\n\u001B[1;32m    661\u001B[0m \u001B[43m                                 \u001B[49m\u001B[43mcallback\u001B[49m\u001B[38;5;241;43m=\u001B[39;49m\u001B[43mcallback\u001B[49m\u001B[43m,\u001B[49m\u001B[43m \u001B[49m\u001B[43margs\u001B[49m\u001B[38;5;241;43m=\u001B[39;49m\u001B[43mfargs\u001B[49m\u001B[43m,\u001B[49m\n\u001B[1;32m    662\u001B[0m \u001B[43m                                 \u001B[49m\u001B[43mbounds\u001B[49m\u001B[38;5;241;43m=\u001B[39;49m\u001B[43mbounds\u001B[49m\u001B[43m,\u001B[49m\u001B[43m \u001B[49m\u001B[43mdisp\u001B[49m\u001B[38;5;241;43m=\u001B[39;49m\u001B[43mdisp\u001B[49m\u001B[43m,\u001B[49m\n\u001B[1;32m    663\u001B[0m \u001B[43m                                 \u001B[49m\u001B[38;5;241;43m*\u001B[39;49m\u001B[38;5;241;43m*\u001B[39;49m\u001B[43mextra_kwargs\u001B[49m\u001B[43m)\u001B[49m\n\u001B[1;32m    665\u001B[0m \u001B[38;5;28;01mif\u001B[39;00m full_output:\n\u001B[1;32m    666\u001B[0m     xopt, fopt, d \u001B[38;5;241m=\u001B[39m retvals\n",
      "File \u001B[0;32m~/Projects/github.com/andy277/time_series_forecasting/.venv/lib/python3.12/site-packages/scipy/optimize/_lbfgsb_py.py:277\u001B[0m, in \u001B[0;36mfmin_l_bfgs_b\u001B[0;34m(func, x0, fprime, args, approx_grad, bounds, m, factr, pgtol, epsilon, iprint, maxfun, maxiter, disp, callback, maxls)\u001B[0m\n\u001B[1;32m    267\u001B[0m callback \u001B[38;5;241m=\u001B[39m _wrap_callback(callback)\n\u001B[1;32m    268\u001B[0m opts \u001B[38;5;241m=\u001B[39m {\u001B[38;5;124m'\u001B[39m\u001B[38;5;124mmaxcor\u001B[39m\u001B[38;5;124m'\u001B[39m: m,\n\u001B[1;32m    269\u001B[0m         \u001B[38;5;124m'\u001B[39m\u001B[38;5;124mftol\u001B[39m\u001B[38;5;124m'\u001B[39m: factr \u001B[38;5;241m*\u001B[39m np\u001B[38;5;241m.\u001B[39mfinfo(\u001B[38;5;28mfloat\u001B[39m)\u001B[38;5;241m.\u001B[39meps,\n\u001B[1;32m    270\u001B[0m         \u001B[38;5;124m'\u001B[39m\u001B[38;5;124mgtol\u001B[39m\u001B[38;5;124m'\u001B[39m: pgtol,\n\u001B[0;32m   (...)\u001B[0m\n\u001B[1;32m    274\u001B[0m         \u001B[38;5;124m'\u001B[39m\u001B[38;5;124mcallback\u001B[39m\u001B[38;5;124m'\u001B[39m: callback,\n\u001B[1;32m    275\u001B[0m         \u001B[38;5;124m'\u001B[39m\u001B[38;5;124mmaxls\u001B[39m\u001B[38;5;124m'\u001B[39m: maxls}\n\u001B[0;32m--> 277\u001B[0m res \u001B[38;5;241m=\u001B[39m \u001B[43m_minimize_lbfgsb\u001B[49m\u001B[43m(\u001B[49m\u001B[43mfun\u001B[49m\u001B[43m,\u001B[49m\u001B[43m \u001B[49m\u001B[43mx0\u001B[49m\u001B[43m,\u001B[49m\u001B[43m \u001B[49m\u001B[43margs\u001B[49m\u001B[38;5;241;43m=\u001B[39;49m\u001B[43margs\u001B[49m\u001B[43m,\u001B[49m\u001B[43m \u001B[49m\u001B[43mjac\u001B[49m\u001B[38;5;241;43m=\u001B[39;49m\u001B[43mjac\u001B[49m\u001B[43m,\u001B[49m\u001B[43m \u001B[49m\u001B[43mbounds\u001B[49m\u001B[38;5;241;43m=\u001B[39;49m\u001B[43mbounds\u001B[49m\u001B[43m,\u001B[49m\n\u001B[1;32m    278\u001B[0m \u001B[43m                       \u001B[49m\u001B[38;5;241;43m*\u001B[39;49m\u001B[38;5;241;43m*\u001B[39;49m\u001B[43mopts\u001B[49m\u001B[43m)\u001B[49m\n\u001B[1;32m    279\u001B[0m d \u001B[38;5;241m=\u001B[39m {\u001B[38;5;124m'\u001B[39m\u001B[38;5;124mgrad\u001B[39m\u001B[38;5;124m'\u001B[39m: res[\u001B[38;5;124m'\u001B[39m\u001B[38;5;124mjac\u001B[39m\u001B[38;5;124m'\u001B[39m],\n\u001B[1;32m    280\u001B[0m      \u001B[38;5;124m'\u001B[39m\u001B[38;5;124mtask\u001B[39m\u001B[38;5;124m'\u001B[39m: res[\u001B[38;5;124m'\u001B[39m\u001B[38;5;124mmessage\u001B[39m\u001B[38;5;124m'\u001B[39m],\n\u001B[1;32m    281\u001B[0m      \u001B[38;5;124m'\u001B[39m\u001B[38;5;124mfuncalls\u001B[39m\u001B[38;5;124m'\u001B[39m: res[\u001B[38;5;124m'\u001B[39m\u001B[38;5;124mnfev\u001B[39m\u001B[38;5;124m'\u001B[39m],\n\u001B[1;32m    282\u001B[0m      \u001B[38;5;124m'\u001B[39m\u001B[38;5;124mnit\u001B[39m\u001B[38;5;124m'\u001B[39m: res[\u001B[38;5;124m'\u001B[39m\u001B[38;5;124mnit\u001B[39m\u001B[38;5;124m'\u001B[39m],\n\u001B[1;32m    283\u001B[0m      \u001B[38;5;124m'\u001B[39m\u001B[38;5;124mwarnflag\u001B[39m\u001B[38;5;124m'\u001B[39m: res[\u001B[38;5;124m'\u001B[39m\u001B[38;5;124mstatus\u001B[39m\u001B[38;5;124m'\u001B[39m]}\n\u001B[1;32m    284\u001B[0m f \u001B[38;5;241m=\u001B[39m res[\u001B[38;5;124m'\u001B[39m\u001B[38;5;124mfun\u001B[39m\u001B[38;5;124m'\u001B[39m]\n",
      "File \u001B[0;32m~/Projects/github.com/andy277/time_series_forecasting/.venv/lib/python3.12/site-packages/scipy/optimize/_lbfgsb_py.py:441\u001B[0m, in \u001B[0;36m_minimize_lbfgsb\u001B[0;34m(fun, x0, args, jac, bounds, disp, maxcor, ftol, gtol, eps, maxfun, maxiter, iprint, callback, maxls, finite_diff_rel_step, **unknown_options)\u001B[0m\n\u001B[1;32m    433\u001B[0m _lbfgsb\u001B[38;5;241m.\u001B[39msetulb(m, x, low_bnd, upper_bnd, nbd, f, g, factr, pgtol, wa,\n\u001B[1;32m    434\u001B[0m                iwa, task, lsave, isave, dsave, maxls, ln_task)\n\u001B[1;32m    436\u001B[0m \u001B[38;5;28;01mif\u001B[39;00m task[\u001B[38;5;241m0\u001B[39m] \u001B[38;5;241m==\u001B[39m \u001B[38;5;241m3\u001B[39m:\n\u001B[1;32m    437\u001B[0m     \u001B[38;5;66;03m# The minimization routine wants f and g at the current x.\u001B[39;00m\n\u001B[1;32m    438\u001B[0m     \u001B[38;5;66;03m# Note that interruptions due to maxfun are postponed\u001B[39;00m\n\u001B[1;32m    439\u001B[0m     \u001B[38;5;66;03m# until the completion of the current minimization iteration.\u001B[39;00m\n\u001B[1;32m    440\u001B[0m     \u001B[38;5;66;03m# Overwrite f and g:\u001B[39;00m\n\u001B[0;32m--> 441\u001B[0m     f, g \u001B[38;5;241m=\u001B[39m \u001B[43mfunc_and_grad\u001B[49m\u001B[43m(\u001B[49m\u001B[43mx\u001B[49m\u001B[43m)\u001B[49m\n\u001B[1;32m    442\u001B[0m \u001B[38;5;28;01melif\u001B[39;00m task[\u001B[38;5;241m0\u001B[39m] \u001B[38;5;241m==\u001B[39m \u001B[38;5;241m1\u001B[39m:\n\u001B[1;32m    443\u001B[0m     \u001B[38;5;66;03m# new iteration\u001B[39;00m\n\u001B[1;32m    444\u001B[0m     n_iterations \u001B[38;5;241m+\u001B[39m\u001B[38;5;241m=\u001B[39m \u001B[38;5;241m1\u001B[39m\n",
      "File \u001B[0;32m~/Projects/github.com/andy277/time_series_forecasting/.venv/lib/python3.12/site-packages/scipy/optimize/_differentiable_functions.py:344\u001B[0m, in \u001B[0;36mScalarFunction.fun_and_grad\u001B[0;34m(self, x)\u001B[0m\n\u001B[1;32m    342\u001B[0m \u001B[38;5;28;01mif\u001B[39;00m \u001B[38;5;129;01mnot\u001B[39;00m np\u001B[38;5;241m.\u001B[39marray_equal(x, \u001B[38;5;28mself\u001B[39m\u001B[38;5;241m.\u001B[39mx):\n\u001B[1;32m    343\u001B[0m     \u001B[38;5;28mself\u001B[39m\u001B[38;5;241m.\u001B[39m_update_x(x)\n\u001B[0;32m--> 344\u001B[0m \u001B[38;5;28;43mself\u001B[39;49m\u001B[38;5;241;43m.\u001B[39;49m\u001B[43m_update_fun\u001B[49m\u001B[43m(\u001B[49m\u001B[43m)\u001B[49m\n\u001B[1;32m    345\u001B[0m \u001B[38;5;28mself\u001B[39m\u001B[38;5;241m.\u001B[39m_update_grad()\n\u001B[1;32m    346\u001B[0m \u001B[38;5;28;01mreturn\u001B[39;00m \u001B[38;5;28mself\u001B[39m\u001B[38;5;241m.\u001B[39mf, \u001B[38;5;28mself\u001B[39m\u001B[38;5;241m.\u001B[39mg\n",
      "File \u001B[0;32m~/Projects/github.com/andy277/time_series_forecasting/.venv/lib/python3.12/site-packages/scipy/optimize/_differentiable_functions.py:295\u001B[0m, in \u001B[0;36mScalarFunction._update_fun\u001B[0;34m(self)\u001B[0m\n\u001B[1;32m    293\u001B[0m \u001B[38;5;28;01mdef\u001B[39;00m\u001B[38;5;250m \u001B[39m\u001B[38;5;21m_update_fun\u001B[39m(\u001B[38;5;28mself\u001B[39m):\n\u001B[1;32m    294\u001B[0m     \u001B[38;5;28;01mif\u001B[39;00m \u001B[38;5;129;01mnot\u001B[39;00m \u001B[38;5;28mself\u001B[39m\u001B[38;5;241m.\u001B[39mf_updated:\n\u001B[0;32m--> 295\u001B[0m         fx \u001B[38;5;241m=\u001B[39m \u001B[38;5;28;43mself\u001B[39;49m\u001B[38;5;241;43m.\u001B[39;49m\u001B[43m_wrapped_fun\u001B[49m\u001B[43m(\u001B[49m\u001B[38;5;28;43mself\u001B[39;49m\u001B[38;5;241;43m.\u001B[39;49m\u001B[43mx\u001B[49m\u001B[43m)\u001B[49m\n\u001B[1;32m    296\u001B[0m         \u001B[38;5;28;01mif\u001B[39;00m fx \u001B[38;5;241m<\u001B[39m \u001B[38;5;28mself\u001B[39m\u001B[38;5;241m.\u001B[39m_lowest_f:\n\u001B[1;32m    297\u001B[0m             \u001B[38;5;28mself\u001B[39m\u001B[38;5;241m.\u001B[39m_lowest_x \u001B[38;5;241m=\u001B[39m \u001B[38;5;28mself\u001B[39m\u001B[38;5;241m.\u001B[39mx\n",
      "File \u001B[0;32m~/Projects/github.com/andy277/time_series_forecasting/.venv/lib/python3.12/site-packages/scipy/optimize/_differentiable_functions.py:21\u001B[0m, in \u001B[0;36m_wrapper_fun.<locals>.wrapped\u001B[0;34m(x)\u001B[0m\n\u001B[1;32m     17\u001B[0m ncalls[\u001B[38;5;241m0\u001B[39m] \u001B[38;5;241m+\u001B[39m\u001B[38;5;241m=\u001B[39m \u001B[38;5;241m1\u001B[39m\n\u001B[1;32m     18\u001B[0m \u001B[38;5;66;03m# Send a copy because the user may overwrite it.\u001B[39;00m\n\u001B[1;32m     19\u001B[0m \u001B[38;5;66;03m# Overwriting results in undefined behaviour because\u001B[39;00m\n\u001B[1;32m     20\u001B[0m \u001B[38;5;66;03m# fun(self.x) will change self.x, with the two no longer linked.\u001B[39;00m\n\u001B[0;32m---> 21\u001B[0m fx \u001B[38;5;241m=\u001B[39m \u001B[43mfun\u001B[49m\u001B[43m(\u001B[49m\u001B[43mnp\u001B[49m\u001B[38;5;241;43m.\u001B[39;49m\u001B[43mcopy\u001B[49m\u001B[43m(\u001B[49m\u001B[43mx\u001B[49m\u001B[43m)\u001B[49m\u001B[43m,\u001B[49m\u001B[43m \u001B[49m\u001B[38;5;241;43m*\u001B[39;49m\u001B[43margs\u001B[49m\u001B[43m)\u001B[49m\n\u001B[1;32m     22\u001B[0m \u001B[38;5;66;03m# Make sure the function returns a true scalar\u001B[39;00m\n\u001B[1;32m     23\u001B[0m \u001B[38;5;28;01mif\u001B[39;00m \u001B[38;5;129;01mnot\u001B[39;00m np\u001B[38;5;241m.\u001B[39misscalar(fx):\n",
      "File \u001B[0;32m~/Projects/github.com/andy277/time_series_forecasting/.venv/lib/python3.12/site-packages/statsmodels/base/model.py:534\u001B[0m, in \u001B[0;36mLikelihoodModel.fit.<locals>.f\u001B[0;34m(params, *args)\u001B[0m\n\u001B[1;32m    533\u001B[0m \u001B[38;5;28;01mdef\u001B[39;00m\u001B[38;5;250m \u001B[39m\u001B[38;5;21mf\u001B[39m(params, \u001B[38;5;241m*\u001B[39margs):\n\u001B[0;32m--> 534\u001B[0m     \u001B[38;5;28;01mreturn\u001B[39;00m \u001B[38;5;241m-\u001B[39m\u001B[38;5;28;43mself\u001B[39;49m\u001B[38;5;241;43m.\u001B[39;49m\u001B[43mloglike\u001B[49m\u001B[43m(\u001B[49m\u001B[43mparams\u001B[49m\u001B[43m,\u001B[49m\u001B[43m \u001B[49m\u001B[38;5;241;43m*\u001B[39;49m\u001B[43margs\u001B[49m\u001B[43m)\u001B[49m \u001B[38;5;241m/\u001B[39m nobs\n",
      "File \u001B[0;32m~/Projects/github.com/andy277/time_series_forecasting/.venv/lib/python3.12/site-packages/statsmodels/tsa/statespace/mlemodel.py:940\u001B[0m, in \u001B[0;36mMLEModel.loglike\u001B[0;34m(self, params, *args, **kwargs)\u001B[0m\n\u001B[1;32m    937\u001B[0m \u001B[38;5;28;01mif\u001B[39;00m complex_step:\n\u001B[1;32m    938\u001B[0m     kwargs[\u001B[38;5;124m'\u001B[39m\u001B[38;5;124minversion_method\u001B[39m\u001B[38;5;124m'\u001B[39m] \u001B[38;5;241m=\u001B[39m INVERT_UNIVARIATE \u001B[38;5;241m|\u001B[39m SOLVE_LU\n\u001B[0;32m--> 940\u001B[0m loglike \u001B[38;5;241m=\u001B[39m \u001B[38;5;28;43mself\u001B[39;49m\u001B[38;5;241;43m.\u001B[39;49m\u001B[43mssm\u001B[49m\u001B[38;5;241;43m.\u001B[39;49m\u001B[43mloglike\u001B[49m\u001B[43m(\u001B[49m\u001B[43mcomplex_step\u001B[49m\u001B[38;5;241;43m=\u001B[39;49m\u001B[43mcomplex_step\u001B[49m\u001B[43m,\u001B[49m\u001B[43m \u001B[49m\u001B[38;5;241;43m*\u001B[39;49m\u001B[38;5;241;43m*\u001B[39;49m\u001B[43mkwargs\u001B[49m\u001B[43m)\u001B[49m\n\u001B[1;32m    942\u001B[0m \u001B[38;5;66;03m# Koopman, Shephard, and Doornik recommend maximizing the average\u001B[39;00m\n\u001B[1;32m    943\u001B[0m \u001B[38;5;66;03m# likelihood to avoid scale issues, but the averaging is done\u001B[39;00m\n\u001B[1;32m    944\u001B[0m \u001B[38;5;66;03m# automatically in the base model `fit` method\u001B[39;00m\n\u001B[1;32m    945\u001B[0m \u001B[38;5;28;01mreturn\u001B[39;00m loglike\n",
      "File \u001B[0;32m~/Projects/github.com/andy277/time_series_forecasting/.venv/lib/python3.12/site-packages/statsmodels/tsa/statespace/kalman_filter.py:1001\u001B[0m, in \u001B[0;36mKalmanFilter.loglike\u001B[0;34m(self, **kwargs)\u001B[0m\n\u001B[1;32m    985\u001B[0m \u001B[38;5;250m\u001B[39m\u001B[38;5;124mr\u001B[39m\u001B[38;5;124;03m\"\"\"\u001B[39;00m\n\u001B[1;32m    986\u001B[0m \u001B[38;5;124;03mCalculate the loglikelihood associated with the statespace model.\u001B[39;00m\n\u001B[1;32m    987\u001B[0m \n\u001B[0;32m   (...)\u001B[0m\n\u001B[1;32m    997\u001B[0m \u001B[38;5;124;03m    The joint loglikelihood.\u001B[39;00m\n\u001B[1;32m    998\u001B[0m \u001B[38;5;124;03m\"\"\"\u001B[39;00m\n\u001B[1;32m    999\u001B[0m kwargs\u001B[38;5;241m.\u001B[39msetdefault(\u001B[38;5;124m'\u001B[39m\u001B[38;5;124mconserve_memory\u001B[39m\u001B[38;5;124m'\u001B[39m,\n\u001B[1;32m   1000\u001B[0m                   MEMORY_CONSERVE \u001B[38;5;241m^\u001B[39m MEMORY_NO_LIKELIHOOD)\n\u001B[0;32m-> 1001\u001B[0m kfilter \u001B[38;5;241m=\u001B[39m \u001B[38;5;28;43mself\u001B[39;49m\u001B[38;5;241;43m.\u001B[39;49m\u001B[43m_filter\u001B[49m\u001B[43m(\u001B[49m\u001B[38;5;241;43m*\u001B[39;49m\u001B[38;5;241;43m*\u001B[39;49m\u001B[43mkwargs\u001B[49m\u001B[43m)\u001B[49m\n\u001B[1;32m   1002\u001B[0m loglikelihood_burn \u001B[38;5;241m=\u001B[39m kwargs\u001B[38;5;241m.\u001B[39mget(\u001B[38;5;124m'\u001B[39m\u001B[38;5;124mloglikelihood_burn\u001B[39m\u001B[38;5;124m'\u001B[39m,\n\u001B[1;32m   1003\u001B[0m                                 \u001B[38;5;28mself\u001B[39m\u001B[38;5;241m.\u001B[39mloglikelihood_burn)\n\u001B[1;32m   1004\u001B[0m \u001B[38;5;28;01mif\u001B[39;00m \u001B[38;5;129;01mnot\u001B[39;00m (kwargs[\u001B[38;5;124m'\u001B[39m\u001B[38;5;124mconserve_memory\u001B[39m\u001B[38;5;124m'\u001B[39m] \u001B[38;5;241m&\u001B[39m MEMORY_NO_LIKELIHOOD):\n",
      "File \u001B[0;32m~/Projects/github.com/andy277/time_series_forecasting/.venv/lib/python3.12/site-packages/statsmodels/tsa/statespace/kalman_filter.py:924\u001B[0m, in \u001B[0;36mKalmanFilter._filter\u001B[0;34m(self, filter_method, inversion_method, stability_method, conserve_memory, filter_timing, tolerance, loglikelihood_burn, complex_step)\u001B[0m\n\u001B[1;32m    921\u001B[0m \u001B[38;5;28mself\u001B[39m\u001B[38;5;241m.\u001B[39m_initialize_state(prefix\u001B[38;5;241m=\u001B[39mprefix, complex_step\u001B[38;5;241m=\u001B[39mcomplex_step)\n\u001B[1;32m    923\u001B[0m \u001B[38;5;66;03m# Run the filter\u001B[39;00m\n\u001B[0;32m--> 924\u001B[0m \u001B[43mkfilter\u001B[49m\u001B[43m(\u001B[49m\u001B[43m)\u001B[49m\n\u001B[1;32m    926\u001B[0m \u001B[38;5;28;01mreturn\u001B[39;00m kfilter\n",
      "\u001B[0;31mKeyboardInterrupt\u001B[0m: "
     ]
    }
   ],
   "execution_count": 129
  },
  {
   "metadata": {},
   "cell_type": "code",
   "source": [
    "def fit_arima_model(data, order, seasonal):\n",
    "    model = SARIMAX(data, order=order, seasonal=seasonal, enforce_stationarity=False, enforce_invertibility=False)\n",
    "    results = model.fit(disp=False)\n",
    "    return results\n",
    "\n",
    "credit_model = fit_arima_model(credit_df, credit_order, credit_seasonal)\n",
    "debit_model = fit_arima_model(debit_df, debit_order, debit_seasonal)"
   ],
   "id": "22e36b65300dfbf8",
   "outputs": [],
   "execution_count": null
  },
  {
   "metadata": {},
   "cell_type": "code",
   "source": [
    "forecast_steps = 90\n",
    "credit_forecast = credit_model.forecast(steps=forecast_steps)\n",
    "debit_forecast = debit_model.forecast(steps=forecast_steps)"
   ],
   "id": "22e28c1d6c51ba4",
   "outputs": [],
   "execution_count": null
  },
  {
   "metadata": {},
   "cell_type": "code",
   "source": [
    "forecast_index = pd.date_range(start=credit_df.index[-1] + pd.Timedelta(days=1), periods=forecast_steps, freq='D')\n",
    "forecasts_df = pd.DataFrame({\n",
    "    'credit_forecast': credit_forecast,\n",
    "    'debit_forecast': debit_forecast,\n",
    "    'total_forecast': credit_forecast + debit_forecast  # Total transaction forecast\n",
    "}, index=forecast_index)\n"
   ],
   "id": "ce5eef908b1c58ab",
   "outputs": [],
   "execution_count": null
  },
  {
   "metadata": {},
   "cell_type": "code",
   "outputs": [],
   "execution_count": null,
   "source": [
    "# Confidence Intervals\n",
    "credit_ci = credit_model.get_forecast(steps=forecast_steps).conf_int()\n",
    "debit_ci = debit_model.get_forecast(steps=forecast_steps).conf_int()\n",
    "forecasts_df['credit_lower_ci'] = credit_ci.iloc[:, 0]\n",
    "forecasts_df['credit_upper_ci'] = credit_ci.iloc[:, 1]\n",
    "forecasts_df['debit_lower_ci'] = debit_ci.iloc[:, 0]\n",
    "forecasts_df['debit_upper_ci'] = debit_ci.iloc[:, 1]"
   ],
   "id": "435d754c877332fa"
  },
  {
   "metadata": {},
   "cell_type": "code",
   "outputs": [],
   "execution_count": null,
   "source": [
    "## Evaluate model\n",
    "def evaluate_model(model, actual_data, label):\n",
    "    predicted = model.fittedvalues\n",
    "    residuals = actual_data - predicted\n",
    "    mae = mean_absolute_error(actual_data, predicted)\n",
    "    rmse = np.sqrt(mean_squared_error(actual_data, predicted))\n",
    "    print(f\"{label} Model Evaluation: MAE={mae:.2f}, RMSE={rmse:.2f}\")\n",
    "    \n",
    "    plt.figure(figsize=(12, 5))\n",
    "    plt.plot(residuals, label=f'{label} Residuals')\n",
    "    plt.axhline(y=0, color='r', linestyle='--')\n",
    "    plt.title(f'Residual Plot for {label} Transactions')\n",
    "    plt.legend()\n",
    "    plt.show()\n",
    "    return mae, rmse\n",
    "    "
   ],
   "id": "86e97cd1af924ed4"
  }
 ],
 "metadata": {
  "kernelspec": {
   "display_name": "Python 3",
   "language": "python",
   "name": "python3"
  },
  "language_info": {
   "codemirror_mode": {
    "name": "ipython",
    "version": 2
   },
   "file_extension": ".py",
   "mimetype": "text/x-python",
   "name": "python",
   "nbconvert_exporter": "python",
   "pygments_lexer": "ipython2",
   "version": "2.7.6"
  }
 },
 "nbformat": 4,
 "nbformat_minor": 5
}
